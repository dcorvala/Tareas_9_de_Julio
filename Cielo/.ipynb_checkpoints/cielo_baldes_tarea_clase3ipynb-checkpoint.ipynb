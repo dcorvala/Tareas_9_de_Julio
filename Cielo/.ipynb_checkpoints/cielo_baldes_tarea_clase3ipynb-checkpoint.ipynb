{
 "cells": [
  {
   "cell_type": "markdown",
   "metadata": {
    "id": "e7bAjWW-S2o0"
   },
   "source": [
    "## Ejercicio 1:"
   ]
  },
  {
   "cell_type": "markdown",
   "metadata": {
    "id": "8gaFitazIF8x"
   },
   "source": [
    "1) Armar una lista con todas las letras del abecedario."
   ]
  },
  {
   "cell_type": "code",
   "execution_count": 1,
   "metadata": {
    "id": "RXat5syzIKnb"
   },
   "outputs": [],
   "source": [
    "#resolución\n",
    "abecedario=['a','b','c','d','e','f','g','h','i','j','k','l','m','n','o','p','q','r','s','t','u','v','w','x','y','z']"
   ]
  },
  {
   "cell_type": "markdown",
   "metadata": {
    "id": "H120ft_3TDin"
   },
   "source": [
    "2) Usar la lista para comprobar cuántas letras tiene nuestro abecedario."
   ]
  },
  {
   "cell_type": "code",
   "execution_count": 2,
   "metadata": {
    "colab": {
     "base_uri": "https://localhost:8080/"
    },
    "id": "YUZgKcQMTEeU",
    "outputId": "3b9940a2-df71-48cf-8ce3-21e88ea22d30"
   },
   "outputs": [
    {
     "data": {
      "text/plain": [
       "26"
      ]
     },
     "execution_count": 2,
     "metadata": {},
     "output_type": "execute_result"
    }
   ],
   "source": [
    "#resolución\n",
    "len(abecedario)"
   ]
  },
  {
   "cell_type": "markdown",
   "metadata": {
    "id": "q4fNRn5CTJ-e"
   },
   "source": [
    "3) Seleccionar la letra 'a'"
   ]
  },
  {
   "cell_type": "code",
   "execution_count": 3,
   "metadata": {
    "colab": {
     "base_uri": "https://localhost:8080/",
     "height": 35
    },
    "id": "iZG3RwsfTgi3",
    "outputId": "f8991e0e-bdcd-4793-87e6-e85665bbe586"
   },
   "outputs": [
    {
     "data": {
      "text/plain": [
       "'a'"
      ]
     },
     "execution_count": 3,
     "metadata": {},
     "output_type": "execute_result"
    }
   ],
   "source": [
    "#resolucion\n",
    "abecedario[0]"
   ]
  },
  {
   "cell_type": "markdown",
   "metadata": {
    "id": "dIS9QNjJTm6X"
   },
   "source": [
    "4) Seleccionar la letra 'z'"
   ]
  },
  {
   "cell_type": "code",
   "execution_count": 4,
   "metadata": {
    "colab": {
     "base_uri": "https://localhost:8080/",
     "height": 35
    },
    "id": "3Ydwp2BnT9sP",
    "outputId": "35fe991a-a1d8-47d9-819c-5261eb46a885"
   },
   "outputs": [
    {
     "data": {
      "text/plain": [
       "'z'"
      ]
     },
     "execution_count": 4,
     "metadata": {},
     "output_type": "execute_result"
    }
   ],
   "source": [
    "#resolución\n",
    "abecedario[-1]"
   ]
  },
  {
   "cell_type": "markdown",
   "metadata": {
    "id": "joqIRHH6TqfZ"
   },
   "source": [
    "5) Imprimí los primeros 3 elementos de la lista"
   ]
  },
  {
   "cell_type": "code",
   "execution_count": 5,
   "metadata": {
    "colab": {
     "base_uri": "https://localhost:8080/"
    },
    "id": "3Qo6nuEyBugd",
    "outputId": "6cfd1cc8-d57a-4a51-c3e2-f351875e115e"
   },
   "outputs": [
    {
     "data": {
      "text/plain": [
       "['a', 'b', 'c']"
      ]
     },
     "execution_count": 5,
     "metadata": {},
     "output_type": "execute_result"
    }
   ],
   "source": [
    "#profe, se que tiene que marcar [0:2] por que toda lista comienza desde 0, pero al hacerlo no me marcaba los primeros 3 elementos, sino 2\n",
    "abecedario[0:3]"
   ]
  },
  {
   "cell_type": "markdown",
   "metadata": {},
   "source": [
    "**Lo que pasa es que no te incluye el último valor entonces te quedan el elemento 0,1 y 2**"
   ]
  },
  {
   "cell_type": "code",
   "execution_count": 6,
   "metadata": {
    "colab": {
     "base_uri": "https://localhost:8080/"
    },
    "id": "1mTw7QfyDLmV",
    "outputId": "bd057c2f-3cc5-4f7c-a24d-4a8fd47295eb"
   },
   "outputs": [
    {
     "data": {
      "text/plain": [
       "['a', 'b']"
      ]
     },
     "execution_count": 6,
     "metadata": {},
     "output_type": "execute_result"
    }
   ],
   "source": [
    "abecedario[0:2]"
   ]
  },
  {
   "cell_type": "markdown",
   "metadata": {
    "id": "yOU0I2mBTuY2"
   },
   "source": [
    "6) **Extra**: Armá un código que reciba una palabra y devuelva la palabra en código, donde cada letra está reemplazada por el número que le corresponde en el orden del abecedario. Armá también otro código para descifrar los mensajes encriptados.\n",
    "\n",
    "*Pista:* Googleá cómo se usa la función \"index\" para encontrar el indice de un elemento de la lista."
   ]
  },
  {
   "cell_type": "code",
   "execution_count": null,
   "metadata": {
    "colab": {
     "base_uri": "https://localhost:8080/",
     "height": 211
    },
    "id": "AJylpyUIB4op",
    "outputId": "5b31758c-c8b3-4a3c-d6a7-6d23c340363c"
   },
   "outputs": [
    {
     "ename": "NameError",
     "evalue": "name 'palabra' is not defined",
     "output_type": "error",
     "traceback": [
      "\u001b[0;31m---------------------------------------------------------------------------\u001b[0m",
      "\u001b[0;31mNameError\u001b[0m                                 Traceback (most recent call last)",
      "\u001b[0;32m/tmp/ipython-input-7-3587263724.py\u001b[0m in \u001b[0;36m<cell line: 0>\u001b[0;34m()\u001b[0m\n\u001b[1;32m      1\u001b[0m \u001b[0;32mdef\u001b[0m \u001b[0mencriptar\u001b[0m\u001b[0;34m(\u001b[0m\u001b[0mpalabra\u001b[0m\u001b[0;34m)\u001b[0m\u001b[0;34m:\u001b[0m\u001b[0;34m\u001b[0m\u001b[0;34m\u001b[0m\u001b[0m\n\u001b[1;32m      2\u001b[0m   \u001b[0mabecedario\u001b[0m \u001b[0;34m=\u001b[0m \u001b[0mlist\u001b[0m\u001b[0;34m(\u001b[0m\u001b[0;34m\"abcdefghijklmnopqrstuvwxyz\"\u001b[0m\u001b[0;34m)\u001b[0m\u001b[0;34m\u001b[0m\u001b[0;34m\u001b[0m\u001b[0m\n\u001b[0;32m----> 3\u001b[0;31m \u001b[0mpalabra\u001b[0m \u001b[0;34m=\u001b[0m \u001b[0mpalabra\u001b[0m\u001b[0;34m.\u001b[0m\u001b[0mlower\u001b[0m\u001b[0;34m(\u001b[0m\u001b[0;34m)\u001b[0m\u001b[0;34m\u001b[0m\u001b[0;34m\u001b[0m\u001b[0m\n\u001b[0m\u001b[1;32m      4\u001b[0m \u001b[0mcodigo\u001b[0m \u001b[0;34m=\u001b[0m \u001b[0;34m\"hola\"\u001b[0m\u001b[0;34m\u001b[0m\u001b[0;34m\u001b[0m\u001b[0m\n\u001b[1;32m      5\u001b[0m \u001b[0;32mfor\u001b[0m \u001b[0mletra\u001b[0m \u001b[0;32min\u001b[0m \u001b[0mpalabra\u001b[0m\u001b[0;34m:\u001b[0m\u001b[0;34m\u001b[0m\u001b[0;34m\u001b[0m\u001b[0m\n",
      "\u001b[0;31mNameError\u001b[0m: name 'palabra' is not defined"
     ]
    }
   ],
   "source": [
    "def encriptar(palabra):\n",
    "  abecedario = list(\"abcdefghijklmnopqrstuvwxyz\")\n",
    "palabra = palabra.lower()\n",
    "codigo = \"hola\"\n",
    "for letra in palabra:\n",
    "  if letra in abecedario:\n",
    "    indice = abecedario.index(letra) + 1\n",
    "    codigo += str(indice)\n",
    "  else:\n",
    "    codigo += letra\n",
    "    return codigo"
   ]
  },
  {
   "cell_type": "markdown",
   "metadata": {},
   "source": [
    "**#La idea es no usar funciones**"
   ]
  },
  {
   "cell_type": "markdown",
   "metadata": {
    "id": "AHLa_F960kbS"
   },
   "source": [
    "**Aquí armé uno cortito:** Te dejo la otra parte a vos"
   ]
  },
  {
   "cell_type": "code",
   "execution_count": 13,
   "metadata": {
    "colab": {
     "base_uri": "https://localhost:8080/"
    },
    "id": "vKDeenUFvUYB",
    "outputId": "f5c823aa-c067-46e6-b675-504d2260f276"
   },
   "outputs": [
    {
     "name": "stdin",
     "output_type": "stream",
     "text": [
      "Ingrese la palabra que desea encriptar: Dario\n"
     ]
    },
    {
     "name": "stdout",
     "output_type": "stream",
     "text": [
      "[3, 0, 17, 8, 14]\n"
     ]
    }
   ],
   "source": [
    "palabra=input(\"Ingrese la palabra que desea encriptar:\").lower()\n",
    "abecedario = list(\"abcdefghijklmnopqrstuvwxyz\")\n",
    "codigo=[]\n",
    "for letra in palabra:\n",
    "  numero=abecedario.index(letra)\n",
    "  codigo.append(numero)\n",
    "print(codigo)\n",
    "\n",
    "\n"
   ]
  },
  {
   "cell_type": "code",
   "execution_count": null,
   "metadata": {
    "id": "9MiRQ4xe5cLF"
   },
   "outputs": [],
   "source": [
    "#en la actividad extra, puse en practica las sugerencias que me daba por error pero no funcionaron"
   ]
  },
  {
   "cell_type": "markdown",
   "metadata": {
    "id": "xmjiETdfUIp2"
   },
   "source": [
    "## Ejercicio 2: Listas de números\n"
   ]
  },
  {
   "cell_type": "code",
   "execution_count": 14,
   "metadata": {
    "id": "cK4-yh8TULjD"
   },
   "outputs": [],
   "source": [
    "lista_numeros=[0,3,2,7,8]"
   ]
  },
  {
   "cell_type": "markdown",
   "metadata": {
    "id": "uxxbUjNMUO1y"
   },
   "source": [
    "1) Sumale 3 al primer elemento\n",
    "\n",
    "2)Restale 2 al segundo elemento\n",
    "\n",
    "3)Multiplica por 5 al último elemento\n",
    "\n",
    "4)Averigua el largo de la lista\n",
    "\n",
    "5) Averigua la suma de todos los elementos de la lista\n"
   ]
  },
  {
   "cell_type": "code",
   "execution_count": 15,
   "metadata": {
    "colab": {
     "base_uri": "https://localhost:8080/"
    },
    "id": "dkF_4ow-UgRU",
    "outputId": "c11f6542-4d9a-4ece-980d-24195f89cc32"
   },
   "outputs": [
    {
     "name": "stdout",
     "output_type": "stream",
     "text": [
      "[3, 3, 2, 7, 8]\n"
     ]
    }
   ],
   "source": [
    "lista_numeros[0]=lista_numeros[0]+3\n",
    "print(lista_numeros)"
   ]
  },
  {
   "cell_type": "code",
   "execution_count": 16,
   "metadata": {
    "colab": {
     "base_uri": "https://localhost:8080/"
    },
    "id": "ru1xdABSbRCp",
    "outputId": "de4f1053-a8b7-4206-e123-e0fa8c9867a7"
   },
   "outputs": [
    {
     "name": "stdout",
     "output_type": "stream",
     "text": [
      "[3, 1, 2, 7, 8]\n"
     ]
    }
   ],
   "source": [
    "lista_numeros[1]=lista_numeros[1]-2\n",
    "print(lista_numeros)"
   ]
  },
  {
   "cell_type": "code",
   "execution_count": 17,
   "metadata": {
    "colab": {
     "base_uri": "https://localhost:8080/"
    },
    "id": "F7aFyeX_bdTd",
    "outputId": "e0ec28dc-130c-4444-a0e1-c94a591ffa05"
   },
   "outputs": [
    {
     "name": "stdout",
     "output_type": "stream",
     "text": [
      "[3, 1, 2, 7, 40]\n"
     ]
    }
   ],
   "source": [
    "lista_numeros[-1]=lista_numeros[-1]*5\n",
    "print(lista_numeros)"
   ]
  },
  {
   "cell_type": "code",
   "execution_count": 18,
   "metadata": {
    "colab": {
     "base_uri": "https://localhost:8080/"
    },
    "id": "zPgzGTX3bj3L",
    "outputId": "fcfccf9f-71fa-4abe-fe84-8ad5314d19a4"
   },
   "outputs": [
    {
     "data": {
      "text/plain": [
       "5"
      ]
     },
     "execution_count": 18,
     "metadata": {},
     "output_type": "execute_result"
    }
   ],
   "source": [
    "len(lista_numeros)"
   ]
  },
  {
   "cell_type": "code",
   "execution_count": 19,
   "metadata": {
    "colab": {
     "base_uri": "https://localhost:8080/"
    },
    "id": "pWS4QRsvbm7s",
    "outputId": "eee52fd6-1e44-4f9c-ff56-f60faf959957"
   },
   "outputs": [
    {
     "data": {
      "text/plain": [
       "53"
      ]
     },
     "execution_count": 19,
     "metadata": {},
     "output_type": "execute_result"
    }
   ],
   "source": [
    "sum(lista_numeros)"
   ]
  },
  {
   "cell_type": "markdown",
   "metadata": {
    "id": "Z-tPR4-QSnOd"
   },
   "source": [
    "#Ejercicio 4: Spotify\n",
    "Armá una lista que represente el TOP 50 de las canciones más escuchadas en Spotify en la Argentina\n",
    "lista_top_50:\n",
    "\n",
    "\n",
    "Fuente: https://open.spotify.com/playlist/37i9dQZEVXbMMy2roB9myp\n",
    "\n",
    "i) Hacer un código que imprima los 10 primeros temas de la lista\n",
    "\n",
    "ii)Hacer otro código que imprima los 3 primeros y un último que imprima los 3 últimos.\n",
    "\n",
    "iii) Redefini el tema 2 de la lista con tu canción favorita.\n",
    "\n",
    "iv)Opcional: Te animas a encontrar un tema en la lista(\"Perfecta\") ¿En qué posición esta?\n"
   ]
  },
  {
   "cell_type": "code",
   "execution_count": 20,
   "metadata": {
    "id": "G495OsROMQ7n"
   },
   "outputs": [],
   "source": [
    "top_50_canciones = ['blackout', 'la plena-W sound', 'capaz', 'bunda', 'amor de vago', 'BAILE INoLVIDABLE', 'con otra', 'VeLDA', 'Parte&Choke', 'VITAMINA', 'VOY A LLeVART PA PR', 'Si las gatas se amontinan', 'QUE CABRONA', 'Olvidarte', 'DtMF', 'NUBES', 'Si antes te hubiera conocido', 'Luk Ra', 'NUEVAYoL', 'eoO', 'FUE CULPA TUYA', 'como eran las cosas', 'A200', 'Q U E V A S A H A C E R H O Y', 'mi refe', 'WELTITA', 'Nueva Era', 'Conmigo te gusto', 'yo se', 'KLOuFRENS', 'Perdonarte ¿para que?', 'por mil noches', 'alegria', 'a las nueve', 'colocartelo', 'un besito mas', 'tan lejos', 'que pasaria', 'LUNA', 'Khe?', 'imaginate', 'ese maldito momento', 'tetas', 'HOLA PERDIDA', 'En otra vida-version cuarteto', 'carita triste', 'SINVERGUENZA', 'Die whit a smile', 'que me falte todo', 'en la cara']"
   ]
  },
  {
   "cell_type": "code",
   "execution_count": 21,
   "metadata": {
    "colab": {
     "base_uri": "https://localhost:8080/"
    },
    "id": "vTrALFt2RHN5",
    "outputId": "59502c0b-e900-49d9-d968-541294bfdd6a"
   },
   "outputs": [
    {
     "data": {
      "text/plain": [
       "['blackout',\n",
       " 'la plena-W sound',\n",
       " 'capaz',\n",
       " 'bunda',\n",
       " 'amor de vago',\n",
       " 'BAILE INoLVIDABLE',\n",
       " 'con otra',\n",
       " 'VeLDA',\n",
       " 'Parte&Choke',\n",
       " 'VITAMINA']"
      ]
     },
     "execution_count": 21,
     "metadata": {},
     "output_type": "execute_result"
    }
   ],
   "source": [
    "top_50_canciones[0:10]"
   ]
  },
  {
   "cell_type": "code",
   "execution_count": null,
   "metadata": {
    "colab": {
     "base_uri": "https://localhost:8080/"
    },
    "id": "WelnaQ1-RSd1",
    "outputId": "7973c4be-96a0-4940-aa80-1a9a6ad357fe"
   },
   "outputs": [
    {
     "data": {
      "text/plain": [
       "['blackout',\n",
       " 'la plena-W sound',\n",
       " 'capaz',\n",
       " 'Die whit a smile',\n",
       " 'que me falte todo',\n",
       " 'en la cara']"
      ]
     },
     "execution_count": 3,
     "metadata": {},
     "output_type": "execute_result"
    }
   ],
   "source": [
    "top_50_canciones[0:3] + top_50_canciones[-3:]"
   ]
  },
  {
   "cell_type": "code",
   "execution_count": 22,
   "metadata": {
    "id": "h6vz84TCRj9j"
   },
   "outputs": [],
   "source": [
    "top_50_canciones[1] = 'story of my life'"
   ]
  },
  {
   "cell_type": "code",
   "execution_count": 23,
   "metadata": {
    "colab": {
     "base_uri": "https://localhost:8080/",
     "height": 35
    },
    "id": "HJ7mG2WwSmUD",
    "outputId": "c561dcfc-edc7-46d3-eebe-17234572ca43"
   },
   "outputs": [
    {
     "data": {
      "text/plain": [
       "'story of my life'"
      ]
     },
     "execution_count": 23,
     "metadata": {},
     "output_type": "execute_result"
    }
   ],
   "source": [
    "top_50_canciones[1]"
   ]
  },
  {
   "cell_type": "markdown",
   "metadata": {
    "id": "PYSNcPz6St8H"
   },
   "source": [
    "#el ultimo ejercicio no lo entendi ¿tengo que agregar la cancion \"perfecta\"?. $\\textbf{Sisi}$"
   ]
  },
  {
   "cell_type": "markdown",
   "metadata": {
    "id": "XqK3KGxr_AlK"
   },
   "source": [
    "# Ejercicio 5: Ciclos for y while\n",
    "![bart.webp](data:image/webp;base64,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)"
   ]
  },
  {
   "cell_type": "markdown",
   "metadata": {
    "id": "MTOupwGDBPMZ"
   },
   "source": [
    "1) **Bart**: Ayudalo a cumplir el castigo a Bart. Escribí \"No voy a hacer nada malo de nuevo\" 100 veces.\n"
   ]
  },
  {
   "cell_type": "code",
   "execution_count": null,
   "metadata": {
    "colab": {
     "base_uri": "https://localhost:8080/"
    },
    "id": "EIVPj0P8BUd3",
    "outputId": "6b06579f-aa57-4b65-c035-7d215762288a"
   },
   "outputs": [
    {
     "name": "stdout",
     "output_type": "stream",
     "text": [
      "no voy a hacer nada malo de nuevo\n",
      "no voy a hacer nada malo de nuevo\n",
      "no voy a hacer nada malo de nuevo\n",
      "no voy a hacer nada malo de nuevo\n",
      "no voy a hacer nada malo de nuevo\n",
      "no voy a hacer nada malo de nuevo\n",
      "no voy a hacer nada malo de nuevo\n",
      "no voy a hacer nada malo de nuevo\n",
      "no voy a hacer nada malo de nuevo\n",
      "no voy a hacer nada malo de nuevo\n",
      "no voy a hacer nada malo de nuevo\n",
      "no voy a hacer nada malo de nuevo\n",
      "no voy a hacer nada malo de nuevo\n",
      "no voy a hacer nada malo de nuevo\n",
      "no voy a hacer nada malo de nuevo\n",
      "no voy a hacer nada malo de nuevo\n",
      "no voy a hacer nada malo de nuevo\n",
      "no voy a hacer nada malo de nuevo\n",
      "no voy a hacer nada malo de nuevo\n",
      "no voy a hacer nada malo de nuevo\n",
      "no voy a hacer nada malo de nuevo\n",
      "no voy a hacer nada malo de nuevo\n",
      "no voy a hacer nada malo de nuevo\n",
      "no voy a hacer nada malo de nuevo\n",
      "no voy a hacer nada malo de nuevo\n",
      "no voy a hacer nada malo de nuevo\n",
      "no voy a hacer nada malo de nuevo\n",
      "no voy a hacer nada malo de nuevo\n",
      "no voy a hacer nada malo de nuevo\n",
      "no voy a hacer nada malo de nuevo\n",
      "no voy a hacer nada malo de nuevo\n",
      "no voy a hacer nada malo de nuevo\n",
      "no voy a hacer nada malo de nuevo\n",
      "no voy a hacer nada malo de nuevo\n",
      "no voy a hacer nada malo de nuevo\n",
      "no voy a hacer nada malo de nuevo\n",
      "no voy a hacer nada malo de nuevo\n",
      "no voy a hacer nada malo de nuevo\n",
      "no voy a hacer nada malo de nuevo\n",
      "no voy a hacer nada malo de nuevo\n",
      "no voy a hacer nada malo de nuevo\n",
      "no voy a hacer nada malo de nuevo\n",
      "no voy a hacer nada malo de nuevo\n",
      "no voy a hacer nada malo de nuevo\n",
      "no voy a hacer nada malo de nuevo\n",
      "no voy a hacer nada malo de nuevo\n",
      "no voy a hacer nada malo de nuevo\n",
      "no voy a hacer nada malo de nuevo\n",
      "no voy a hacer nada malo de nuevo\n",
      "no voy a hacer nada malo de nuevo\n",
      "no voy a hacer nada malo de nuevo\n",
      "no voy a hacer nada malo de nuevo\n",
      "no voy a hacer nada malo de nuevo\n",
      "no voy a hacer nada malo de nuevo\n",
      "no voy a hacer nada malo de nuevo\n",
      "no voy a hacer nada malo de nuevo\n",
      "no voy a hacer nada malo de nuevo\n",
      "no voy a hacer nada malo de nuevo\n",
      "no voy a hacer nada malo de nuevo\n",
      "no voy a hacer nada malo de nuevo\n",
      "no voy a hacer nada malo de nuevo\n",
      "no voy a hacer nada malo de nuevo\n",
      "no voy a hacer nada malo de nuevo\n",
      "no voy a hacer nada malo de nuevo\n",
      "no voy a hacer nada malo de nuevo\n",
      "no voy a hacer nada malo de nuevo\n",
      "no voy a hacer nada malo de nuevo\n",
      "no voy a hacer nada malo de nuevo\n",
      "no voy a hacer nada malo de nuevo\n",
      "no voy a hacer nada malo de nuevo\n",
      "no voy a hacer nada malo de nuevo\n",
      "no voy a hacer nada malo de nuevo\n",
      "no voy a hacer nada malo de nuevo\n",
      "no voy a hacer nada malo de nuevo\n",
      "no voy a hacer nada malo de nuevo\n",
      "no voy a hacer nada malo de nuevo\n",
      "no voy a hacer nada malo de nuevo\n",
      "no voy a hacer nada malo de nuevo\n",
      "no voy a hacer nada malo de nuevo\n",
      "no voy a hacer nada malo de nuevo\n",
      "no voy a hacer nada malo de nuevo\n",
      "no voy a hacer nada malo de nuevo\n",
      "no voy a hacer nada malo de nuevo\n",
      "no voy a hacer nada malo de nuevo\n",
      "no voy a hacer nada malo de nuevo\n",
      "no voy a hacer nada malo de nuevo\n",
      "no voy a hacer nada malo de nuevo\n",
      "no voy a hacer nada malo de nuevo\n",
      "no voy a hacer nada malo de nuevo\n",
      "no voy a hacer nada malo de nuevo\n",
      "no voy a hacer nada malo de nuevo\n",
      "no voy a hacer nada malo de nuevo\n",
      "no voy a hacer nada malo de nuevo\n",
      "no voy a hacer nada malo de nuevo\n",
      "no voy a hacer nada malo de nuevo\n",
      "no voy a hacer nada malo de nuevo\n",
      "no voy a hacer nada malo de nuevo\n",
      "no voy a hacer nada malo de nuevo\n",
      "no voy a hacer nada malo de nuevo\n",
      "no voy a hacer nada malo de nuevo\n"
     ]
    }
   ],
   "source": [
    "Castigo_1 = 'no voy a hacer nada malo de nuevo'\n",
    "i = 0\n",
    "while i < 100:\n",
    "    print('no voy a hacer nada malo de nuevo')\n",
    "    i = i + 1"
   ]
  },
  {
   "cell_type": "markdown",
   "metadata": {
    "id": "PLP7SbCsEGvD"
   },
   "source": [
    "\n",
    "2) **La escondida**: Escribí un programa que pida un número y \"cuente\" imprimiendo todos los números uno por uno hasta ese número.\n"
   ]
  },
  {
   "cell_type": "code",
   "execution_count": null,
   "metadata": {
    "colab": {
     "base_uri": "https://localhost:8080/"
    },
    "id": "dGIY1fZgEIK1",
    "outputId": "f4c37f42-f835-4d08-e3ec-2773b3d36f4a"
   },
   "outputs": [
    {
     "name": "stdout",
     "output_type": "stream",
     "text": [
      "ingrese un numero: 12\n",
      "1\n",
      "2\n",
      "3\n",
      "4\n",
      "5\n",
      "6\n",
      "7\n",
      "8\n",
      "9\n",
      "10\n",
      "11\n",
      "12\n"
     ]
    }
   ],
   "source": [
    "#jugamos a las escondidas\n",
    "#pedimos al participante un numero\n",
    "numero_ingresado = int(input(\"ingrese un numero: \"))\n",
    "\n",
    "#contamos desde 1 hasta el numero ingresado\n",
    "for i in range(1, numero_ingresado + 1):\n",
    "    print(i)\n"
   ]
  },
  {
   "cell_type": "markdown",
   "metadata": {
    "id": "kSqURggZEIj-"
   },
   "source": [
    "\n",
    "3) **La constraseña**: Definí una contraseña. Escribí un programa que le pregunte la constraseña al usuario, hasta que este coloque la contraseña correcta."
   ]
  },
  {
   "cell_type": "code",
   "execution_count": null,
   "metadata": {
    "colab": {
     "base_uri": "https://localhost:8080/"
    },
    "id": "kHju08ASEJBK",
    "outputId": "110e227f-8ae8-4296-c3af-a0a35b7613bc"
   },
   "outputs": [
    {
     "name": "stdout",
     "output_type": "stream",
     "text": [
      "por favor ingrese su contraseña: hola\n",
      "contraseña incorrecta, intente nuevamente\n",
      "por favor ingrese su contraseña: michi12\n",
      "contraseña correcta, bienvenido de nuevo\n"
     ]
    }
   ],
   "source": [
    "#indicamos la contraseña correcta\n",
    "\n",
    "contraseña_correcta = \"michi12\"\n",
    "\n",
    "#le pedimos al usuario que ingrese la contraseña\n",
    "\n",
    "contraseña_ingresada = input(\"por favor ingrese su contraseña: \")\n",
    "\n",
    "#repetimos hasta ingresar con la contraseña correcta\n",
    "\n",
    "while contraseña_ingresada != contraseña_correcta:\n",
    "    print(\"contraseña incorrecta, intente nuevamente\")\n",
    "    contraseña_ingresada = input(\"por favor ingrese su contraseña: \")\n",
    "print(\"contraseña correcta, bienvenido de nuevo\")"
   ]
  },
  {
   "cell_type": "markdown",
   "metadata": {
    "id": "DiG8YWOuEKqW"
   },
   "source": [
    "4) **El trabalenguas**: \"r con r guitarra, r con r barril, que rapido ruedan las ruedas del ferrocarril\".\n",
    "\n",
    "Escribir un programa que cuente la cantidad de R que hay en esa frase.\n",
    "\n",
    "*Nota: Podemos recorrer los strings de la misma manera que lo hicimos con las listas, y se recorren letra a letra*"
   ]
  },
  {
   "cell_type": "code",
   "execution_count": null,
   "metadata": {
    "colab": {
     "base_uri": "https://localhost:8080/"
    },
    "id": "QgL_0lvpEVOz",
    "outputId": "cd261cbf-50f0-4b5f-e326-ae4f0e48f3ea"
   },
   "outputs": [
    {
     "name": "stdout",
     "output_type": "stream",
     "text": [
      "cantidad de letras 'r': 12\n"
     ]
    }
   ],
   "source": [
    "trabalenguas = \"r con r guitarra, r con r barril, que rapido ruedan las ruedas del tren\"\n",
    "contador = 0\n",
    "for letra in trabalenguas:\n",
    "    if letra.lower() == \"r\":\n",
    "        contador += 1\n",
    "print(\"cantidad de letras 'r':\", contador)"
   ]
  },
  {
   "cell_type": "markdown",
   "metadata": {
    "id": "zgBTN0R6FJvx"
   },
   "source": [
    "5) **El cuento de la buena pipa**\n",
    "\n",
    "Escribir un programa que le pregunte al usuario si quire que le cuente el cuento de la buena pipa y le pida que ingrese una frase y luego le conteste:\n",
    "\n",
    "\"yo no dije \"la frase del usuario\", yo dije si querés que te cuente el cuento de la buena pipa\""
   ]
  },
  {
   "cell_type": "markdown",
   "metadata": {},
   "source": [
    "**#Hacelo sin usar funciones**"
   ]
  },
  {
   "cell_type": "code",
   "execution_count": null,
   "metadata": {
    "colab": {
     "base_uri": "https://localhost:8080/"
    },
    "id": "yjRr9zXSFVhQ",
    "outputId": "d332f386-81ed-4b17-a4dc-1738848e165e"
   },
   "outputs": [
    {
     "name": "stdout",
     "output_type": "stream",
     "text": [
      "¿queres que te cuente el cuento de la buena pipa?\n",
      "si\n",
      "ingrese una frase\n",
      "hola mundo\n",
      "yo no dije, \"hola mundo\", yo dije si querés que te cuente el cuento de la buena pipa\n",
      "¿queres que te cuente el cuento de la buena pipa?\n",
      "no\n",
      "gracias por tu tiempo\n"
     ]
    }
   ],
   "source": [
    "#preguntamos al usuario si quiere escuchar el cuento de la buena pipa\n",
    "def cuento_de_la_buena_pipa():\n",
    "  print(\"¿queres que te cuente el cuento de la buena pipa?\")\n",
    "  while True:\n",
    "    respuesta = input()\n",
    "    if respuesta.lower() == \"si\":\n",
    "      print(\"ingrese una frase\")\n",
    "#preguntamos al usuario si quiere escuchar el cuento de la buena pipa\n",
    "def cuento_de_la_buena_pipa():\n",
    "  print(\"¿queres que te cuente el cuento de la buena pipa?\")\n",
    "  while True:\n",
    "    respuesta = input()\n",
    "    if respuesta.lower() == \"si\":\n",
    "      print(\"ingrese una frase\")\n",
    "      frase = input()\n",
    "      print(f'yo no dije, \"{frase}\", yo dije si querés que te cuente el cuento de la buena pipa')\n",
    "      break\n",
    "    elif respuesta.lower() == \"no\":\n",
    "      print(\"gracias por tu tiempo\")\n",
    "      break\n",
    "\n",
    " #el programa pregunta al usuario\n",
    "\n",
    "cuento_de_la_buena_pipa()\n",
    " #el programa pregunta al usuario\n",
    "\n",
    "cuento_de_la_buena_pipa()"
   ]
  },
  {
   "cell_type": "code",
   "execution_count": null,
   "metadata": {
    "id": "AiPMNntv1tME"
   },
   "outputs": [],
   "source": [
    "#en esta actividad, me aparecio la opcion break para finalizar cuando vi sugerencias de errores"
   ]
  }
 ],
 "metadata": {
  "colab": {
   "provenance": []
  },
  "kernelspec": {
   "display_name": "Python 3 (ipykernel)",
   "language": "python",
   "name": "python3"
  },
  "language_info": {
   "codemirror_mode": {
    "name": "ipython",
    "version": 3
   },
   "file_extension": ".py",
   "mimetype": "text/x-python",
   "name": "python",
   "nbconvert_exporter": "python",
   "pygments_lexer": "ipython3",
   "version": "3.13.5"
  }
 },
 "nbformat": 4,
 "nbformat_minor": 4
}
