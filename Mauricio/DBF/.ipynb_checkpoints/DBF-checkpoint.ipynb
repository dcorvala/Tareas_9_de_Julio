{
 "cells": [
  {
   "cell_type": "markdown",
   "metadata": {},
   "source": [
    "# 📘 Notebook de Mauricio. Asunto: DBF\n",
    "\n",
    "[![Abrir en Colab](https://colab.research.google.com/assets/colab-badge.svg)](https://colab.research.google.com/github/dcorvala/Tareas_9_de_Julio/blob/main/Mauricio/DBF/DBF.ipynb)\n"
   ]
  },
  {
   "cell_type": "code",
   "execution_count": 1,
   "metadata": {
    "colab": {
     "base_uri": "https://localhost:8080/"
    },
    "executionInfo": {
     "elapsed": 15532,
     "status": "ok",
     "timestamp": 1753793068913,
     "user": {
      "displayName": "Mauricio Loria",
      "userId": "12673421119309925682"
     },
     "user_tz": 180
    },
    "id": "UHgSvQdi-k5c",
    "outputId": "794003de-0aa9-4e29-c406-fb33a9f329fd"
   },
   "outputs": [
    {
     "name": "stdout",
     "output_type": "stream",
     "text": [
      "Defaulting to user installation because normal site-packages is not writeable\n",
      "Requirement already satisfied: simpledbf in /home/dcorvala/.local/lib/python3.13/site-packages (0.2.6)\n",
      "Defaulting to user installation because normal site-packages is not writeable\n",
      "Requirement already satisfied: pandas in /home/dcorvala/.local/lib/python3.13/site-packages (2.2.3)\n",
      "Requirement already satisfied: numpy>=1.26.0 in /home/dcorvala/.local/lib/python3.13/site-packages (from pandas) (2.2.6)\n",
      "Requirement already satisfied: python-dateutil>=2.8.2 in /usr/lib/python3.13/site-packages (from pandas) (2.8.2)\n",
      "Requirement already satisfied: pytz>=2020.1 in /home/dcorvala/.local/lib/python3.13/site-packages (from pandas) (2025.2)\n",
      "Requirement already satisfied: tzdata>=2022.7 in /home/dcorvala/.local/lib/python3.13/site-packages (from pandas) (2025.2)\n",
      "Requirement already satisfied: six>=1.5 in /usr/lib/python3.13/site-packages (from python-dateutil>=2.8.2->pandas) (1.16.0)\n",
      "PyTables is not installed. No support for HDF output.\n",
      "SQLalchemy is not installed. No support for SQL output.\n"
     ]
    }
   ],
   "source": [
    "!pip install simpledbf\n",
    "!pip install pandas\n",
    "from simpledbf import Dbf5\n",
    "import pandas as pd\n"
   ]
  },
  {
   "cell_type": "code",
   "execution_count": 2,
   "metadata": {},
   "outputs": [
    {
     "name": "stdout",
     "output_type": "stream",
     "text": [
      "True\n"
     ]
    }
   ],
   "source": [
    "import os\n",
    "print(os.path.exists(\"datos/LOCALIDA.DBF\"))\n"
   ]
  },
  {
   "cell_type": "code",
   "execution_count": 16,
   "metadata": {
    "colab": {
     "base_uri": "https://localhost:8080/"
    },
    "executionInfo": {
     "elapsed": 10,
     "status": "ok",
     "timestamp": 1753793123122,
     "user": {
      "displayName": "Mauricio Loria",
      "userId": "12673421119309925682"
     },
     "user_tz": 180
    },
    "id": "4e22nH0k_SH9",
    "outputId": "d05b72eb-e802-4ce1-9c3c-7b179d8347e0",
    "scrolled": true
   },
   "outputs": [
    {
     "name": "stdout",
     "output_type": "stream",
     "text": [
      "    CODPOSTAL           LOCALIDAD CODTELE         PROVINCIA\n",
      "0        0001    SANTIAGO - CHILE     NaN          EXTERIOR\n",
      "1        0002  MONTEVIDEO-URUGUAY     NaN          EXTERIOR\n",
      "2        0003          LIMA- PERU     NaN          EXTERIOR\n",
      "3        1001         CAP.FEDERAL     NaN   CAPITAL FEDERAL\n",
      "4        1002         CAP.FEDERAL     NaN   CAPITAL FEDERAL\n",
      "..        ...                 ...     ...               ...\n",
      "590      9100               TELEW     NaN            CHUBUT\n",
      "591      9310   PUERTO SAN JULIAN     NaN        SANTA CRUZ\n",
      "592      9405         EL CALAFATE     NaN        SANTA CRUS\n",
      "593      9420          RIO GRANDE     NaN  TIERRA DEL FUEGO\n",
      "594      9500          Punta Cana    2317      La Felicidad\n",
      "\n",
      "[595 rows x 4 columns]\n"
     ]
    }
   ],
   "source": [
    "dbfPath = \"datos/LOCALIDA.DBF\"\n",
    "df = Dbf5(dbfPath, codec= \"latin1\").to_dataframe()\n",
    "df2 = df.sort_values(by= \"CODPOSTAL\")\n",
    "agregado = pd.DataFrame({'CODPOSTAL': [9500], 'LOCALIDAD': [\"Punta Cana\"], \"CODTELE\": [2317], \"PROVINCIA\": [\"La Felicidad\"]}, index=['row3'])\n",
    "df3 = pd.concat([df2, agregado], ignore_index=True)\n",
    "print(df3)"
   ]
  },
  {
   "cell_type": "markdown",
   "metadata": {
    "id": "qKLjp60dP4dr"
   },
   "source": [
    "Ahora necesito grabar el dataframe al archivo LOCALIDA.DBF..... como hago para exportalo???"
   ]
  },
  {
   "cell_type": "markdown",
   "metadata": {},
   "source": [
    "Mauricio fijate en la documentación del módulo simpledbf:  $\\textbf{https://pypi.org/project/simpledbf/}$ dice $\\textbf{it lacks many features, such as the ability to write DBF files}$. O sea, que no podes exportar a .dbf. Probá con esto que encontré:"
   ]
  },
  {
   "cell_type": "code",
   "execution_count": 5,
   "metadata": {},
   "outputs": [
    {
     "name": "stdout",
     "output_type": "stream",
     "text": [
      "Defaulting to user installation because normal site-packages is not writeable\n",
      "Collecting dbf\n",
      "  Downloading dbf-0.99.10-py3-none-any.whl.metadata (1.6 kB)\n",
      "Collecting aenum (from dbf)\n",
      "  Downloading aenum-3.1.16-py3-none-any.whl.metadata (3.8 kB)\n",
      "Downloading dbf-0.99.10-py3-none-any.whl (109 kB)\n",
      "Downloading aenum-3.1.16-py3-none-any.whl (165 kB)\n",
      "Installing collected packages: aenum, dbf\n",
      "Successfully installed aenum-3.1.16 dbf-0.99.10\n"
     ]
    }
   ],
   "source": [
    "from simpledbf import Dbf5 # lo dejamos para hacer lo mismo que ya hiciste\n",
    "import pandas as pd # Nuestro conocido pandas\n",
    "!pip install dbf\n",
    "import dbf # Nuevo\n",
    "import os # esto acordate que es para que puedas leer y crear archivos en tu PC"
   ]
  },
  {
   "cell_type": "code",
   "execution_count": 35,
   "metadata": {},
   "outputs": [],
   "source": [
    "# Acá pones la ruta del archivo\n",
    "dbfPath = \"datos/LOCALIDA.DBF\""
   ]
  },
  {
   "cell_type": "code",
   "execution_count": 36,
   "metadata": {},
   "outputs": [],
   "source": [
    "df3 = df3.fillna({\n",
    "    'CODPOSTAL': 0,\n",
    "    'LOCALIDAD': '',\n",
    "    'CODTELE': 0,\n",
    "    'PROVINCIA': ''\n",
    "})\n",
    "\n",
    "df3['CODPOSTAL'] = df3['CODPOSTAL'].astype(int)\n",
    "df3['CODTELE']   = df3['CODTELE'].astype(int)\n"
   ]
  },
  {
   "cell_type": "markdown",
   "metadata": {},
   "source": [
    "Para llenar lon NaN con ceros. Le pones el nombre del dataframe y el valor que va a usar para reemplazar el NaN en cada columna y luego convertimos los 0 a int porque le fijamos cero decimales "
   ]
  },
  {
   "cell_type": "code",
   "execution_count": 37,
   "metadata": {},
   "outputs": [
    {
     "name": "stdout",
     "output_type": "stream",
     "text": [
      "     CODPOSTAL           LOCALIDAD  CODTELE         PROVINCIA\n",
      "0            1    SANTIAGO - CHILE        0          EXTERIOR\n",
      "1            2  MONTEVIDEO-URUGUAY        0          EXTERIOR\n",
      "2            3          LIMA- PERU        0          EXTERIOR\n",
      "3         1001         CAP.FEDERAL        0   CAPITAL FEDERAL\n",
      "4         1002         CAP.FEDERAL        0   CAPITAL FEDERAL\n",
      "..         ...                 ...      ...               ...\n",
      "590       9100               TELEW        0            CHUBUT\n",
      "591       9310   PUERTO SAN JULIAN        0        SANTA CRUZ\n",
      "592       9405         EL CALAFATE        0        SANTA CRUS\n",
      "593       9420          RIO GRANDE        0  TIERRA DEL FUEGO\n",
      "594       9500          Punta Cana     2317      La Felicidad\n",
      "\n",
      "[595 rows x 4 columns]\n"
     ]
    }
   ],
   "source": [
    "print(df3)"
   ]
  },
  {
   "cell_type": "code",
   "execution_count": 38,
   "metadata": {},
   "outputs": [
    {
     "name": "stdout",
     "output_type": "stream",
     "text": [
      "CODPOSTAL    0\n",
      "LOCALIDAD    0\n",
      "CODTELE      0\n",
      "PROVINCIA    0\n",
      "dtype: int64\n"
     ]
    }
   ],
   "source": [
    "print(df3.isna().sum()) #Para ver si quedó algun NaN"
   ]
  },
  {
   "cell_type": "code",
   "execution_count": 41,
   "metadata": {},
   "outputs": [
    {
     "name": "stdout",
     "output_type": "stream",
     "text": [
      "✅ Archivo DBF exportado en: datos/LOCALIDA_cambiado.DBF\n"
     ]
    }
   ],
   "source": [
    "# Aca poné el nombre del archivo .dbf que queres crear\n",
    "nuevo_dbf = \"datos/LOCALIDA_cambiado.DBF\"\n",
    "\n",
    "# Acá detallá la estructura de tu tabla. Etiqueta y luego ponele el tipo de dato que contiene N si es numérico y entre paréntesis el numéro maximo\n",
    "# de dígitos y cuantos decimales 5,0 sería 5 digitos y 0 decimales. C es texto y entre paréntesis numero máximo de caracteres.\n",
    "\n",
    "estructura = 'CODPOSTAL N(5,0); LOCALIDAD C(50); CODTELE N(5,0); PROVINCIA C(50)'\n",
    "\n",
    "# Esto para ver si ya tenes un .dbf con el mismo nombre (nuevo_dbf, ponele el nombre que quieras). \n",
    "#os.path.exist te da TRUE si lo encuentra\n",
    "if os.path.exists(nuevo_dbf):\n",
    "    os.remove(nuevo_dbf)\n",
    "\n",
    "tabla = dbf.Table(\n",
    "    nuevo_dbf,\n",
    "    estructura,\n",
    "    codepage='cp1252'  #  Acá usa el método del módulo dbf, nombre y que use la estructura que fijaste antes, el codepage hay que ponerlo para que acepte ñ y demas cositas\n",
    ")\n",
    "tabla.open(mode=dbf.READ_WRITE)\n",
    "\n",
    "# Aca vas llenando la tabla con los datos de tu dataframe. Va recorriendo el dataframe y va agregando las filas en la tabla. El _ es\n",
    "# para que no le de bola al índice de las filas\n",
    "\n",
    "for _, fila in df3.iterrows():\n",
    "    tabla.append((\n",
    "        int(fila['CODPOSTAL']),\n",
    "        str(fila['LOCALIDAD']),\n",
    "        int(fila['CODTELE']),\n",
    "        str(fila['PROVINCIA'])\n",
    "    ))\n",
    "\n",
    "\n",
    "tabla.close() # cierra la tabla y la guarda\n",
    "print(f\"✅ Archivo DBF exportado en: {nuevo_dbf}\") # Para que te aparezca este mensaje y vos sepas cuando finalizó\n"
   ]
  },
  {
   "cell_type": "markdown",
   "metadata": {},
   "source": [
    "Ahí creó el .DBf Lo de ver si lo armó correctamente te lo dejo a vos que estas mas ducho para trabajar con ese tipo \n",
    "de base de datos."
   ]
  },
  {
   "cell_type": "code",
   "execution_count": null,
   "metadata": {},
   "outputs": [],
   "source": []
  }
 ],
 "metadata": {
  "colab": {
   "authorship_tag": "ABX9TyOEc84q7h7I+gHuGg8rZ+xH",
   "provenance": []
  },
  "kernelspec": {
   "display_name": "Python 3 (ipykernel)",
   "language": "python",
   "name": "python3"
  },
  "language_info": {
   "codemirror_mode": {
    "name": "ipython",
    "version": 3
   },
   "file_extension": ".py",
   "mimetype": "text/x-python",
   "name": "python",
   "nbconvert_exporter": "python",
   "pygments_lexer": "ipython3",
   "version": "3.13.5"
  }
 },
 "nbformat": 4,
 "nbformat_minor": 4
}
