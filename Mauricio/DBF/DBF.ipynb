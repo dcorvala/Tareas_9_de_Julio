{
 "cells": [
  {
   "cell_type": "code",
   "execution_count": 1,
   "metadata": {
    "colab": {
     "base_uri": "https://localhost:8080/"
    },
    "executionInfo": {
     "elapsed": 15532,
     "status": "ok",
     "timestamp": 1753793068913,
     "user": {
      "displayName": "Mauricio Loria",
      "userId": "12673421119309925682"
     },
     "user_tz": 180
    },
    "id": "UHgSvQdi-k5c",
    "outputId": "794003de-0aa9-4e29-c406-fb33a9f329fd"
   },
   "outputs": [
    {
     "name": "stdout",
     "output_type": "stream",
     "text": [
      "Defaulting to user installation because normal site-packages is not writeable\n",
      "Requirement already satisfied: simpledbf in /home/dcorvala/.local/lib/python3.13/site-packages (0.2.6)\n",
      "Defaulting to user installation because normal site-packages is not writeable\n",
      "Requirement already satisfied: pandas in /home/dcorvala/.local/lib/python3.13/site-packages (2.2.3)\n",
      "Requirement already satisfied: numpy>=1.26.0 in /home/dcorvala/.local/lib/python3.13/site-packages (from pandas) (2.2.6)\n",
      "Requirement already satisfied: python-dateutil>=2.8.2 in /usr/lib/python3.13/site-packages (from pandas) (2.8.2)\n",
      "Requirement already satisfied: pytz>=2020.1 in /home/dcorvala/.local/lib/python3.13/site-packages (from pandas) (2025.2)\n",
      "Requirement already satisfied: tzdata>=2022.7 in /home/dcorvala/.local/lib/python3.13/site-packages (from pandas) (2025.2)\n",
      "Requirement already satisfied: six>=1.5 in /usr/lib/python3.13/site-packages (from python-dateutil>=2.8.2->pandas) (1.16.0)\n",
      "PyTables is not installed. No support for HDF output.\n",
      "SQLalchemy is not installed. No support for SQL output.\n"
     ]
    }
   ],
   "source": [
    "!pip install simpledbf\n",
    "!pip install pandas\n",
    "from simpledbf import Dbf5\n",
    "import pandas as pd\n"
   ]
  },
  {
   "cell_type": "code",
   "execution_count": 5,
   "metadata": {},
   "outputs": [
    {
     "name": "stdout",
     "output_type": "stream",
     "text": [
      "True\n"
     ]
    }
   ],
   "source": [
    "import os\n",
    "print(os.path.exists(\"/home/dcorvala/Documentos/Diplomatura/Codigos/Mauricio/DBF/LOCALIDA.DBF\"))\n"
   ]
  },
  {
   "cell_type": "code",
   "execution_count": 6,
   "metadata": {
    "colab": {
     "base_uri": "https://localhost:8080/"
    },
    "executionInfo": {
     "elapsed": 10,
     "status": "ok",
     "timestamp": 1753793123122,
     "user": {
      "displayName": "Mauricio Loria",
      "userId": "12673421119309925682"
     },
     "user_tz": 180
    },
    "id": "4e22nH0k_SH9",
    "outputId": "d05b72eb-e802-4ce1-9c3c-7b179d8347e0",
    "scrolled": true
   },
   "outputs": [
    {
     "name": "stdout",
     "output_type": "stream",
     "text": [
      "    CODPOSTAL           LOCALIDAD CODTELE         PROVINCIA\n",
      "0        0001    SANTIAGO - CHILE     NaN          EXTERIOR\n",
      "1        0002  MONTEVIDEO-URUGUAY     NaN          EXTERIOR\n",
      "2        0003          LIMA- PERU     NaN          EXTERIOR\n",
      "3        1001         CAP.FEDERAL     NaN   CAPITAL FEDERAL\n",
      "4        1002         CAP.FEDERAL     NaN   CAPITAL FEDERAL\n",
      "..        ...                 ...     ...               ...\n",
      "590      9100               TELEW     NaN            CHUBUT\n",
      "591      9310   PUERTO SAN JULIAN     NaN        SANTA CRUZ\n",
      "592      9405         EL CALAFATE     NaN        SANTA CRUS\n",
      "593      9420          RIO GRANDE     NaN  TIERRA DEL FUEGO\n",
      "594      9500          Punta Cana    2317      La Felicidad\n",
      "\n",
      "[595 rows x 4 columns]\n"
     ]
    }
   ],
   "source": [
    "dbfPath = \"/home/dcorvala/Documentos/Diplomatura/Codigos/Mauricio/DBF/LOCALIDA.DBF\"\n",
    "df = Dbf5(dbfPath, codec= \"latin1\").to_dataframe()\n",
    "df2 = df.sort_values(by= \"CODPOSTAL\")\n",
    "agregado = pd.DataFrame({'CODPOSTAL': [9500], 'LOCALIDAD': [\"Punta Cana\"], \"CODTELE\": [2317], \"PROVINCIA\": [\"La Felicidad\"]}, index=['row3'])\n",
    "df3 = pd.concat([df2, agregado], ignore_index=True)\n",
    "print(df3)"
   ]
  },
  {
   "cell_type": "markdown",
   "metadata": {
    "id": "qKLjp60dP4dr"
   },
   "source": [
    "Ahora necesito grabar el dataframe al archivo LOCALIDA.DBF..... como hago para exportalo???"
   ]
  },
  {
   "cell_type": "code",
   "execution_count": null,
   "metadata": {},
   "outputs": [],
   "source": []
  }
 ],
 "metadata": {
  "colab": {
   "authorship_tag": "ABX9TyOEc84q7h7I+gHuGg8rZ+xH",
   "provenance": []
  },
  "kernelspec": {
   "display_name": "Python 3 (ipykernel)",
   "language": "python",
   "name": "python3"
  },
  "language_info": {
   "codemirror_mode": {
    "name": "ipython",
    "version": 3
   },
   "file_extension": ".py",
   "mimetype": "text/x-python",
   "name": "python",
   "nbconvert_exporter": "python",
   "pygments_lexer": "ipython3",
   "version": "3.13.5"
  }
 },
 "nbformat": 4,
 "nbformat_minor": 4
}
