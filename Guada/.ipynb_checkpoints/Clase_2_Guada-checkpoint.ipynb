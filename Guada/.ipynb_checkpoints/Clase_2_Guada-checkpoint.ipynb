{
 "cells": [
  {
   "cell_type": "markdown",
   "metadata": {
    "id": "l8yPWj2_p0ay"
   },
   "source": [
    "[![Abrir en Colab](https://colab.research.google.com/assets/colab-badge.svg)](https://colab.research.google.com/github/dcorvala/Tareas_9_de_Julio/blob/main/Guada/Clase_2_Guada.ipynb)"
   ]
  },
  {
   "cell_type": "markdown",
   "metadata": {
    "id": "cGeXNl5JgGFX"
   },
   "source": [
    "# **Actividad 1: Condicionales**\n",
    "\n",
    "La clase pasada realizamos la siguiente consigna:\n",
    "\n",
    "*Escriban (en papel) en grupo las instrucciones detalladas que necesitan paso por paso para poder llevar adelante esa tarea.*\n",
    "\n",
    "**Consigna 1:**\n",
    "\n",
    "Agregar un cuadro de texto a continuación y escribir la lista de instrucciones que escribieron.\n",
    "\n"
   ]
  },
  {
   "cell_type": "markdown",
   "metadata": {
    "id": "pEEl1xJPolsL"
   },
   "source": [
    "**Consigna 2:**\n",
    "\n",
    "El siguiente código realiza la tarea que discutimos la clase pasada\n",
    "\n",
    "```\n",
    "#introducimos la edad\n",
    "edad = 30\n",
    "\n",
    "#decide si es mayor a 18\n",
    "if edad>=18:\n",
    "  print('Sos mayor de edad, podés pasar')\n",
    "else:\n",
    "  print('Sos menor de edad, no podés pasar')\n",
    "```\n",
    "\n",
    "1. Armar una nueva celda de código, copiarlo y probar que efectivamente cumple la tarea.\n",
    "\n",
    "2. Probar con distintas edades e identificar qué ocurre en cada paso. ¿En qué momento toma la desición?"
   ]
  },
  {
   "cell_type": "code",
   "execution_count": null,
   "metadata": {
    "colab": {
     "base_uri": "https://localhost:8080/"
    },
    "id": "XdOMfZPXZzAj",
    "outputId": "669dc5bf-037a-48d0-afa7-708d4fe7bbdd"
   },
   "outputs": [
    {
     "name": "stdout",
     "output_type": "stream",
     "text": [
      "Sos mayor de edad, podés pasar\n"
     ]
    }
   ],
   "source": [
    "#introducimos la edad\n",
    "edad = 30\n",
    "\n",
    "#decide si es mayor a 18\n",
    "if edad>=18:\n",
    "  print('Sos mayor de edad, podés pasar')\n",
    "else:\n",
    "  print('Sos menor de edad, no podés pasar')"
   ]
  },
  {
   "cell_type": "markdown",
   "metadata": {
    "id": "gXnz5MfNLEgJ"
   },
   "source": [
    "**Consigna 3:**\n",
    "\n",
    "A partir del código anterior queremos armar uno nuevo para saber si una persona cobra más o menos que el Salario Mínimo Vital y Móvil ($202.800).\n",
    "\n",
    "1. Pensar en papel los pasos necesarios para hacerlo\n",
    "2. En la celda de código que hay abajo, copiar el código anterior y modificarlo para que realiza esta tarea. (Para copiar el código anterior podés marcarlo todo, tocar las teclas Ctrl+C y luego pararte en la celda y tocar las teclas Ctrl+V).\n",
    "3. (Extra) Para quienes se animen: ¿Pueden utilizar la función *imput* que vimos la clase pasada para que el código pregunte el salario, y en base a eso conteste?\n",
    "4. ¿el algoritmo que hicieron hace lo que ustedes pusieron en el punto 1.? ¿En qué momento toma la decisión?\n",
    "\n",
    "\n",
    "\n",
    "*Nota: El **Salario Mínimo Vital y Móvil (SMVM)** está garantizado por el artículo 14 bis de la Constitución Nacional y fue reglamentado por la Ley de Contrato de Trabajo, que define al salario mínimo como el piso de ingresos que puede percibir un empleado como retribución por su trabajo.*\n"
   ]
  },
  {
   "cell_type": "code",
   "execution_count": null,
   "metadata": {
    "id": "flZoVeIi1WId"
   },
   "outputs": [],
   "source": [
    "# Resolución Condiciones para comparacion (Consigna 3)\n",
    "\n",
    "SMVM = int (input ('Cual es tu salario?'))\n",
    "\n",
    "#Como saber si una persona cobra mas o menos que el SMVM (Salario MInimo Vital y Movil)\n",
    "if SMVM == 202800:\n",
    "  print('el salario es IGUAL al minimo vital y mobil')\n",
    "elif SMVM >= 202800:\n",
    "  print('el salario es MAYOR al minimo vital y mobil')\n",
    "else :\n",
    "  print('el salario es MENOR al minimo vital y mobil')"
   ]
  },
  {
   "cell_type": "markdown",
   "metadata": {
    "id": "uN5aFaldWYKQ"
   },
   "source": [
    "**Consigna 4** (Extra)\n",
    "\n",
    "El salario mínimo para una persona que realiza tareas cuidando personas es de  $1.528 por hora (1). Realizar un código que le pregunte el salario a una persona y cuántas horas mensuales trabaja y en base a esa información informe si está cobrando de acuerdo a esta reglamentación o la está incumpliendo.\n",
    "\n",
    "*(1) https://www.argentina.gob.ar/trabajo/casasparticulares/trabajador/sueldo*"
   ]
  },
  {
   "cell_type": "code",
   "execution_count": null,
   "metadata": {
    "id": "YuOdDzkz1Xxr"
   },
   "outputs": [],
   "source": [
    "# Resolución Condiciones para comparacion (Consigna 4)\n",
    "\n",
    "SMVM = int (input ('Cual es tu salario?'))\n",
    "horas = int (input ('Cuantas horas trabajas por mes?'))\n",
    "\n",
    "#Resultado del valor por hora\n",
    "por_hora=(SMVM/horas)\n",
    "\n",
    "#Como saber si una persona cobra mas o menos que el SMVM (Salario MInimo Vital y Movil)\n",
    "if por_hora == 1528:\n",
    "  print('el salario es IGUAL al minimo vital y mobil')\n",
    "elif por_hora >= 1528:\n",
    "  print('el salario es MAYOR al minimo vital y mobil')\n",
    "else :\n",
    "  print('el salario es MENOR al minimo vital y mobil')"
   ]
  },
  {
   "cell_type": "code",
   "execution_count": null,
   "metadata": {
    "id": "-OEXIZpMfyVB"
   },
   "outputs": [],
   "source": [
    "#Condiciones para comparacion (Consigna 4)\n",
    "\n",
    "horas = int (input ('Cuantas horas trabajas por mes?'))\n",
    "pago = int (input('Cuantas cobras por hora?'))\n",
    "\n",
    "#Resultado del valor por hora\n",
    "salario=(horas*pago)\n",
    "print('vos cobras ' + str(salario))\n",
    "\n",
    "#Como saber si una persona cobra mas o menos que el SMVM (Salario MInimo Vital y Movil)\n",
    "if salario == 202800:\n",
    "  print('el salario es IGUAL al minimo vital y mobil')\n",
    "elif salario >= 202800:\n",
    "  print('el salario es MAYOR al minimo vital y mobil')\n",
    "else :\n",
    "  print('el salario es MENOR al minimo vital y mobil')"
   ]
  },
  {
   "cell_type": "markdown",
   "metadata": {
    "id": "rfx045HlwONh"
   },
   "source": [
    "# **Actividad 2: El semáforo**\n",
    "\n",
    "**Consigna 1**\n",
    "\n",
    "*Hacer en el cuaderno*\n",
    "\n",
    "Teniendo en cuenta, lo  visto en el ejercicio anterior, crear un algoritmo que indique que pare si la luz está roja y que avance si la luz está verde.\n",
    "\n",
    "*Luego traslademos a código en el colab*\n",
    "\n",
    "\n",
    "\n"
   ]
  },
  {
   "cell_type": "code",
   "execution_count": null,
   "metadata": {
    "colab": {
     "base_uri": "https://localhost:8080/"
    },
    "id": "yI1VVN-Ew2R7",
    "outputId": "4e860844-0f58-4bfb-c882-545566854a63"
   },
   "outputs": [
    {
     "name": "stdout",
     "output_type": "stream",
     "text": [
      "Color del semaforoviol\n",
      "Por favor ingrese un color valido: Rojo o Verde\n"
     ]
    }
   ],
   "source": [
    "# Resolución Consigna El Semaforo\n",
    "semaforo=input ('Color del semaforo')\n",
    "\n",
    "if semaforo == 'rojo' or semaforo == 'verde':\n",
    "\n",
    "  if semaforo == 'rojo':\n",
    "   print('Pare')\n",
    "  elif semaforo == 'verde':\n",
    "    print('Avance')\n",
    "else:\n",
    "    print('Por favor ingrese un color valido: Rojo o Verde')"
   ]
  },
  {
   "cell_type": "markdown",
   "metadata": {
    "id": "xH9WWcxjw68K"
   },
   "source": [
    "**Consigna 2**\n",
    "\n",
    "¿Cómo deberíamos modificar el código para que pare si la luz está roja, avance si la luz está verde y que acelere si la luz está amarilla?\n",
    "\n",
    "*Usen la pista que está en la diapositiva*"
   ]
  },
  {
   "cell_type": "code",
   "execution_count": 1,
   "metadata": {
    "colab": {
     "base_uri": "https://localhost:8080/"
    },
    "id": "sSBtk7W4w5gm",
    "outputId": "99790970-55ad-43d3-a423-fcd5e18fe78f"
   },
   "outputs": [
    {
     "name": "stdout",
     "output_type": "stream",
     "text": [
      "Color del semaforo azul\n",
      "Por favor ingrese un color valido: Rojo, Verde o Amarillo\n"
     ]
    }
   ],
   "source": [
    "#Resolución Consigna El Semaforo\n",
    "semaforo=input ('Color del semaforo ')\n",
    "\n",
    "if semaforo == 'rojo' or semaforo == 'amarillo' or semaforo == 'verde':\n",
    "\n",
    "  if semaforo == 'rojo':\n",
    "   print('Pare')\n",
    "  elif semaforo == 'amarillo':\n",
    "   print('Acelere')\n",
    "  elif semaforo == 'verde':\n",
    "    print('Avance')\n",
    "else:\n",
    "    print('Por favor ingrese un color valido: Rojo, Verde o Amarillo')"
   ]
  },
  {
   "cell_type": "markdown",
   "metadata": {
    "id": "_hLkNU_zxSAw"
   },
   "source": [
    "**Consigna 3**\n",
    "\n",
    "Agreguemosle al código la luz naranja para que frene.\n"
   ]
  },
  {
   "cell_type": "code",
   "execution_count": null,
   "metadata": {
    "colab": {
     "base_uri": "https://localhost:8080/"
    },
    "id": "IuLj9OWbxlU7",
    "outputId": "3a21c938-96ab-484e-84d2-4a26a9e43c4b"
   },
   "outputs": [
    {
     "name": "stdout",
     "output_type": "stream",
     "text": [
      "Color del semaforoNaranja\n",
      "Por favor ingrese un color valido: Rojo, Naranja, Verde o Amarillo\n"
     ]
    }
   ],
   "source": [
    "#Resolución # Consigna El Semaforo\n",
    "semaforo=input ('Color del semaforo')\n",
    "\n",
    "if semaforo == 'rojo' or semaforo == 'amarillo' or semaforo == 'verde' or semaforo == 'naranja':\n",
    "\n",
    "  if semaforo == 'rojo' or semaforo == 'naranja':\n",
    "   print('Pare')\n",
    "  elif semaforo == 'amarillo':\n",
    "   print('Acelere')\n",
    "  elif semaforo == 'verde':\n",
    "    print('Avance')\n",
    "else:\n",
    "    print('Por favor ingrese un color valido: Rojo, Naranja, Verde o Amarillo')\n",
    "\n",
    "# Este codigo no tiene validacion para mayusculas y minusculas."
   ]
  },
  {
   "cell_type": "code",
   "execution_count": null,
   "metadata": {
    "colab": {
     "base_uri": "https://localhost:8080/"
    },
    "id": "ZzONhq56gqFG",
    "outputId": "2d486814-b9dd-4bed-8d47-9bae043dc9ce"
   },
   "outputs": [
    {
     "name": "stdout",
     "output_type": "stream",
     "text": [
      "Color del semaforonaranja\n",
      "Frene\n"
     ]
    }
   ],
   "source": [
    "#Resolución # Consigna El Semaforo\n",
    "semaforo=input ('Color del semaforo')\n",
    "\n",
    "if semaforo == 'rojo' or semaforo == 'amarillo' or semaforo == 'verde' or semaforo == 'naranja':\n",
    "\n",
    "  if semaforo == 'rojo':\n",
    "   print('Pare')\n",
    "  elif semaforo == 'naranja':\n",
    "   print('Frene')\n",
    "  elif semaforo == 'amarillo':\n",
    "   print('Acelere')\n",
    "  elif semaforo == 'verde':\n",
    "    print('Avance')\n",
    "else:\n",
    "    print('Por favor ingrese un color valido: Rojo, Naranja, Verde o Amarillo')"
   ]
  },
  {
   "cell_type": "markdown",
   "metadata": {
    "id": "KMWsfHu0L_zP"
   },
   "source": [
    "# **Actividad 3: Operadores lógicos**\n",
    "\n",
    "Se usan para combinar dos o más condiciones\n",
    "\n",
    "\n",
    "**Ejemplo 1**\n",
    "\n",
    "Si esta soleado Y hace calor --> me meto a la pileta\n",
    "\n",
    "\n",
    "*Tienen que pasar las dos cosas*"
   ]
  },
  {
   "cell_type": "code",
   "execution_count": null,
   "metadata": {
    "id": "e9PmgCPsPmE0"
   },
   "outputs": [],
   "source": [
    "cielo = 'soleado'\n",
    "temperatura = 32\n",
    "\n",
    "if cielo == 'soleado' and temperatura > 30:\n",
    "  print('A la pileta!)"
   ]
  },
  {
   "cell_type": "markdown",
   "metadata": {
    "id": "EFXavY5PP028"
   },
   "source": [
    "**Ejemplo 2**\n",
    "\n",
    "Si esta llueve O hace frío --> me pongo la campera\n",
    "\n",
    "\n",
    "*Tienen que pasar ALGUNA de las dos cosas*"
   ]
  },
  {
   "cell_type": "code",
   "execution_count": null,
   "metadata": {
    "colab": {
     "base_uri": "https://localhost:8080/"
    },
    "id": "xrC_DRjsQY_Q",
    "outputId": "72ba2de6-99ac-42d5-fc29-a3024bc5c8bc"
   },
   "outputs": [
    {
     "name": "stdout",
     "output_type": "stream",
     "text": [
      "No te olvides la campera!\n"
     ]
    }
   ],
   "source": [
    "cielo = 'lluvioso'\n",
    "temperatura = 20\n",
    "\n",
    "if cielo == 'lluvioso' or temperatura < 10:\n",
    "  print('No te olvides la campera!')\n",
    "\n"
   ]
  },
  {
   "cell_type": "code",
   "execution_count": null,
   "metadata": {
    "colab": {
     "base_uri": "https://localhost:8080/"
    },
    "id": "gFtPYI4N1GUB",
    "outputId": "73eac8f9-759b-4a0c-fdd2-f4573a66a94a"
   },
   "outputs": [
    {
     "name": "stdout",
     "output_type": "stream",
     "text": [
      "Tiempodespejado\n",
      "Necesitas paraguas\n"
     ]
    }
   ],
   "source": [
    "#Definamos la mejor estructura para cada situacion\n",
    "# 1.Si sale el sol, no uso paraguas.\n",
    "dia=input('Tiempo')\n",
    "\n",
    "if dia == 'Soleado':\n",
    "  print('No necesitas paraguas')\n",
    "else:\n",
    "  print('Necesitas paraguas')"
   ]
  },
  {
   "cell_type": "markdown",
   "metadata": {
    "id": "f7wsD3t-R2bo"
   },
   "source": [
    "**Ejemplo 3**\n",
    "\n",
    "Pueden haber más condiciones\n",
    "\n",
    "Si esta soleado **Y NO** tengo que trabajar **Y no** tengo que estudiar --> puedo ir a tomar sol\n",
    "\n",
    "\n",
    "*Tienen que pasar TODAS de las dos cosas. Además, hemos incluido el NOT para indicar cosas que NO tienen que pasar*"
   ]
  },
  {
   "cell_type": "code",
   "execution_count": null,
   "metadata": {
    "colab": {
     "base_uri": "https://localhost:8080/"
    },
    "id": "kL8ElIV7R_vj",
    "outputId": "b203b66f-7866-4f5f-c07e-7ebccca189a5"
   },
   "outputs": [
    {
     "name": "stdout",
     "output_type": "stream",
     "text": [
      "Puedo tomar sol!\n"
     ]
    }
   ],
   "source": [
    "cielo = 'soleado'\n",
    "trabajar = False\n",
    "estudiar = False\n",
    "\n",
    "if cielo == 'soleado' and not trabajar and not estudiar:\n",
    "  print('Puedo tomar sol!')"
   ]
  },
  {
   "cell_type": "markdown",
   "metadata": {
    "id": "uqhgz4wBQwAk"
   },
   "source": [
    " **Consigna 1**. Utilizar estos operadores para armar un código que le consulte la edad y el salario a un trabajador. Si es mayor de 16 años y cobra más que el salario mínimo, está en regla según la legislación Argentina. Si es menor de 16 años O cobra menos que el salario mínimo, incumple la legislación. Utilizar la alternativa condicional en conjunto con operadores lógicos para informarle al trabajador si está en regla.\n"
   ]
  },
  {
   "cell_type": "code",
   "execution_count": 2,
   "metadata": {
    "colab": {
     "base_uri": "https://localhost:8080/"
    },
    "id": "5wOze8Qy1ft5",
    "outputId": "e9078b02-e4d4-49e1-8dbb-dc9ceb75a049"
   },
   "outputs": [
    {
     "name": "stdout",
     "output_type": "stream",
     "text": [
      "Cuantos años tienes?20\n",
      "Cobras mas del SMVM?si\n",
      "Ud. esta fuera de regla con la lejislacion\n"
     ]
    }
   ],
   "source": [
    "# Si es > de 16 y cobra >= SMVM --> esta en regla con la lejislacion\n",
    "# Si es < de 16 y cobra < SMVM --> esta fuera de regla con la lejislacion\n",
    "# Resolucion\n",
    "\n",
    "edad=int(input('Cuantos años tienes?'))\n",
    "salario=bool(input('Cobras mas del SMVM?'))\n",
    "\n",
    "if edad >= 16 and salario == 'si':\n",
    "  print('Ud. esta en regla con la lejislacion')\n",
    "else :\n",
    "  print('Ud. esta fuera de regla con la lejislacion')"
   ]
  },
  {
   "cell_type": "markdown",
   "metadata": {
    "id": "3HHRGF5JL-iV"
   },
   "source": [
    "# **Actividad 4:** La moneda\n",
    "\n",
    "\n",
    "\n",
    "## Juego 1\n",
    "Dos jugadores tiran la moneda. Si sale cara el primer jugador gana y el segundo jugador hace una prenda. Si sale seca, el segundo jugador gana y el primer jugador hace una prenda.\n",
    "\n",
    "**Jugadores**\n",
    "\n",
    "Jugador 1= *ingresar nombre del jugador 1*\n",
    "\n",
    "Jugador 2= *ingresar nombre del jugador 2*\n",
    "\n",
    "**Prendas**\n",
    "\n",
    "Prenda para el jugador 1= *ingresar prenda*\n",
    "\n",
    "Prenda para el jugador 2= *ingresar prenda*\n",
    "\n",
    "¡A JUGAR!"
   ]
  },
  {
   "cell_type": "markdown",
   "metadata": {
    "id": "kpHnHB2QgK3v"
   },
   "source": [
    "##Modulos\n",
    "Los módulos permiten reutilizar el código de otros programadores\n",
    "\n",
    "El primer módulo que vamso a ver es random:\n",
    "-Escribir en la consola:"
   ]
  },
  {
   "cell_type": "code",
   "execution_count": null,
   "metadata": {
    "colab": {
     "base_uri": "https://localhost:8080/"
    },
    "id": "CJeu9jsTg9pb",
    "outputId": "d37e01f3-6713-4837-e1dc-9410622fe927"
   },
   "outputs": [
    {
     "name": "stdout",
     "output_type": "stream",
     "text": [
      "Vos jugas con Cara. Nombre jugador 1: 1\n",
      "Vos jugas con Ceca. Nombre jugador 2: 2\n",
      "El lado de la moneda es Cara\n",
      "Si sale Ceca -> pregunta 2\n"
     ]
    }
   ],
   "source": [
    "import random\n",
    "moneda=random.randint(0,1)\n",
    "# como las personas al jugar con una moneda no juegan con 0 o 1 sino con Car o Ceca por eso hice lo siguiente\n",
    "if moneda == 0:\n",
    "  lado = 'Cara'\n",
    "else:\n",
    "  lado = 'Ceca'\n",
    "\n",
    "# Asignar con que queres jugar y el nombre del jugador\n",
    "Jugador1=input('Vos jugas con Cara. Nombre jugador 1: ')\n",
    "Jugador2=input('Vos jugas con Ceca. Nombre jugador 2: ')\n",
    "\n",
    "# Imprimir el lado de la moneda que salio para evitar suspicacias\n",
    "print('El lado de la moneda es '+lado)\n",
    "\n",
    "# Ejecucion del If para jugar\n",
    "if moneda == 'cara':\n",
    "  print('Si sale Cara -> pregunta '+Jugador1)\n",
    "else:\n",
    "  print('Si sale Ceca -> pregunta '+Jugador2)\n",
    "\n"
   ]
  },
  {
   "cell_type": "markdown",
   "metadata": {
    "id": "dBoDvKlnhHaT"
   },
   "source": [
    "Ahora tenemos en nuestro colab las funciones que que los que programaron random hicieron y amablemente compartieron con toda la comunidad. Dentro de random tenemos funciones que nos permiten calcular cosas \"al azar\". Probar el siguiente código ¿Qué es lo que hace?\n"
   ]
  },
  {
   "cell_type": "code",
   "execution_count": null,
   "metadata": {
    "colab": {
     "base_uri": "https://localhost:8080/"
    },
    "id": "LwsMKhVOhyaW",
    "outputId": "8afa9e55-3f15-415a-d013-6ed5ea7dd00a"
   },
   "outputs": [
    {
     "data": {
      "text/plain": [
       "2"
      ]
     },
     "execution_count": 58,
     "metadata": {},
     "output_type": "execute_result"
    }
   ],
   "source": [
    "random.randint(1,5)"
   ]
  },
  {
   "cell_type": "markdown",
   "metadata": {
    "id": "m38g9kV3-mYo"
   },
   "source": [
    "*Entrega un valor aleatorio entre 5 valores: 1, 2, 3, 4 y 5 *"
   ]
  },
  {
   "cell_type": "markdown",
   "metadata": {
    "id": "PhN_PzWejiX8"
   },
   "source": [
    "¿Cómo simularíamos el tirado de una moneda?"
   ]
  },
  {
   "cell_type": "markdown",
   "metadata": {
    "id": "6XSxqe2k_lqv"
   },
   "source": [
    "*Para simular el tiro de la moneda se importa el modulo random y al usar el randint con una cota de solo 2 opciones.\n",
    "En el codigo desarrollado se establece si es cara o ceca a esos mismos valores, traduciendo al leguaje humano ese 0 y 1, como Cara y Ceca.*"
   ]
  },
  {
   "cell_type": "markdown",
   "metadata": {
    "id": "udgSOxXZx4yK"
   },
   "source": [
    "# **Actividad 5: Opciones de películas**\n",
    "\n",
    "Transformá el siguiente algoritmo a código de python y ejecutalo en el Colab\n",
    "\n",
    "\"#Imprimir el siguiente mensaje\"\n",
    "\n",
    "\"Selecciona un número que indique el nombre de tu película favorita:\n",
    "\n",
    "1.Opción 1\n",
    "\n",
    "2.Opción 2\n",
    "\n",
    "3.Opción 3\n",
    "\n",
    "4.Opción 4\n",
    "\n",
    "5.Otro\"\n",
    "\n",
    "\n",
    "\"#Pedirle al usuario el número de la opción escogida.\"\n",
    "\n",
    "\n",
    "\"# Realizar un condicional que a partir del número escogido imprima la ficha de la película\"\n",
    "\n",
    "Si no selecciona ninguna de las opciones debe imprimirse un mensaje de error.\n"
   ]
  },
  {
   "cell_type": "code",
   "execution_count": null,
   "metadata": {
    "colab": {
     "base_uri": "https://localhost:8080/"
    },
    "id": "VOaRfqaYx4Hw",
    "outputId": "74118e33-ca43-46eb-a573-feaae319e536"
   },
   "outputs": [
    {
     "name": "stdout",
     "output_type": "stream",
     "text": [
      "1.Opción 1\n",
      "2.Opción 2\n",
      "3.Opción 3\n",
      "4.Opción 4\n",
      "5.Otro\n",
      "Selecciona un número que indique el nombre de tu película favorita:8\n",
      "error\n"
     ]
    }
   ],
   "source": [
    "#Resolución\n",
    "\n",
    "var10=\"1.Opción 1\"\n",
    "var20=\"2.Opción 2\"\n",
    "var30=\"3.Opción 3\"\n",
    "var40=\"4.Opción 4\"\n",
    "var50=\"5.Otro\"\n",
    "var1=1\n",
    "var2=2\n",
    "var3=3\n",
    "var4=4\n",
    "var5=5\n",
    "var6=6\n",
    "#var8=null no sé como definir para un valor nulo o vacio (ej. solo presionar ENTER en el input)\n",
    "\n",
    "# Estas opciones son las primeras que se muestras\n",
    "print(var10)\n",
    "print(var20)\n",
    "print(var30)\n",
    "print(var40)\n",
    "print(var50)\n",
    "\n",
    "# Se solicita al usuario viendo las opciones que seleccione una\n",
    "var7= int (input (\"Selecciona un número que indique el nombre de tu película favorita:\"))\n",
    "\n",
    "# Respuestas en funcion de la seleccion\n",
    "var10=\"1.Opción 1\"\n",
    "var20=\"2.Opción 2\"\n",
    "var30=\"3.Opción 3\"\n",
    "var40=\"4.Opción 4\"\n",
    "var50=\"5.Otro\"\n",
    "var60=\"error\"\n",
    "\n",
    "#if var7 == var1 or var7 == var2 or var7 == var3 or var7 == var4 or var7 == var5 or var7 == var6:\n",
    "if var7 == var1:\n",
    "    print(var10)\n",
    "\n",
    "if var7 == var2:\n",
    "    print(var20)\n",
    "\n",
    "if var7 == var3:\n",
    "    print(var30)\n",
    "\n",
    "if var7 == var4:\n",
    "    print(var40)\n",
    "\n",
    "if var7 == var5:\n",
    "    print(var50)\n",
    "\n",
    "if var7 >= var6:\n",
    "    print(var60)\n",
    "\n"
   ]
  },
  {
   "cell_type": "markdown",
   "metadata": {
    "id": "MErXzYqHBKgN"
   },
   "source": [
    "# **Actividad 6: La verdulería**\n",
    "\n"
   ]
  },
  {
   "cell_type": "markdown",
   "metadata": {
    "id": "PsehARug8VmS"
   },
   "source": [
    "Hay un error en el siguiente código. Para encontrarlo, mirá la salida, seguí el camino de comprobaciones que hace python. ¿La respuesta es la esperada según los valores iniciales?"
   ]
  },
  {
   "cell_type": "code",
   "execution_count": null,
   "metadata": {
    "colab": {
     "base_uri": "https://localhost:8080/"
    },
    "id": "_CHiiQtbwinK",
    "outputId": "39fc7544-abd5-4a0f-d9eb-000f84d75be9"
   },
   "outputs": [
    {
     "name": "stdout",
     "output_type": "stream",
     "text": [
      "Que barata la cebolla che, dame un kg\n",
      "fondo2 290\n",
      "Ta` cara la papa no?.. más de 389\n",
      "Y agrame un kg de zanahoria\n",
      "fondo3 119\n",
      "Tu vuelto es  119\n"
     ]
    }
   ],
   "source": [
    "fondo = 500\n",
    "papa = 389\n",
    "cebolla = 210\n",
    "zanahoria = 171\n",
    "\n",
    "if papa + cebolla + zanahoria <= fondo:\n",
    "    print('Dame un kg de cada uno')\n",
    "    print('fondo1', fondo)\n",
    "elif cebolla < 250:\n",
    "    print('Que barata la cebolla che, dame un kg')\n",
    "    fondo = fondo - cebolla\n",
    "    print('fondo2', fondo)\n",
    "    if papa <= fondo:\n",
    "        print('Dame papa')\n",
    "        fondo = fondo - papa\n",
    "        print('fondo3', fondo)\n",
    "    else:\n",
    "        print('Ta` cara la papa no?.. más de', papa)\n",
    "        if fondo >= zanahoria:\n",
    "            print('Y agrame un kg de zanahoria')\n",
    "            fondo = fondo - zanahoria\n",
    "            print('fondo3', fondo)\n",
    "            print('Tu vuelto es ', fondo)\n",
    "\n",
    "else:\n",
    "    print('Que locura no se puede comprar nada')\n"
   ]
  },
  {
   "cell_type": "code",
   "execution_count": null,
   "metadata": {
    "colab": {
     "base_uri": "https://localhost:8080/"
    },
    "id": "rMmJu5TnBlJU",
    "outputId": "befb206f-264f-4d64-88d9-65e76b8ddbf4"
   },
   "outputs": [
    {
     "name": "stdout",
     "output_type": "stream",
     "text": [
      "fondo es: 119\n"
     ]
    }
   ],
   "source": [
    "# Pista\n",
    "print('fondo es:', fondo)"
   ]
  },
  {
   "cell_type": "markdown",
   "metadata": {
    "id": "UIlS01Ry9oel"
   },
   "source": [
    "EXTRA: ¿Te animás a usar _and_, _or_ ó _not_ en el código anterior?"
   ]
  },
  {
   "cell_type": "code",
   "execution_count": 3,
   "metadata": {
    "colab": {
     "base_uri": "https://localhost:8080/",
     "height": 110
    },
    "id": "rpkXAGdc9l3c",
    "outputId": "7a3ddf03-0c3f-41f9-d7b3-e3e942c1e6f7"
   },
   "outputs": [
    {
     "ename": "SyntaxError",
     "evalue": "invalid syntax (ipython-input-3-741230689.py, line 44)",
     "output_type": "error",
     "traceback": [
      "\u001b[0;36m  File \u001b[0;32m\"/tmp/ipython-input-3-741230689.py\"\u001b[0;36m, line \u001b[0;32m44\u001b[0m\n\u001b[0;31m    else:\u001b[0m\n\u001b[0m    ^\u001b[0m\n\u001b[0;31mSyntaxError\u001b[0m\u001b[0;31m:\u001b[0m invalid syntax\n"
     ]
    }
   ],
   "source": [
    "# código ACA ME FALTA AGREGARLE AL CODIGO ANTERIOR LOS AND OR O NOT\n",
    "fondo = 500\n",
    "papa = 389\n",
    "cebolla = 210\n",
    "zanahoria = 171\n",
    "\n",
    "if papa + cebolla + zanahoria <= fondo:\n",
    "    print('Dame un kg de cada uno')\n",
    "    print('fondo1', fondo)\n",
    "\"\"\"elif cebolla <= fondo:\n",
    "    fondo = fondo - cebolla\n",
    "    print('fondo2', fondo)\n",
    "      and papa <= fondo:\n",
    "        fondo = fondo - papa\n",
    "        print('fondo3', fondo)\n",
    "      and zanahoria <= fondo:\n",
    "        fondo = fondo - zanahoria\n",
    "        print('fondo4', fondo)\n",
    "    print('Aca compro 1kg de cada cosa')\"\"\"\n",
    "    #fondo = fondo - cebolla - papa - zanahoria\n",
    "    #print('fondo2', fondo)\n",
    "\n",
    "\"\"\"if :\n",
    "        print('Dame papa')\n",
    "        fondo = fondo - papa\n",
    "        print('fondo3', fondo)\n",
    "    else:\n",
    "        print('Ta` cara la papa no?.. más de', papa)\n",
    "        if fondo >= zanahoria:\n",
    "            print('Y agrame un kg de zanahoria')\n",
    "            fondo = fondo - zanahoria\n",
    "            print('fondo3', fondo)\n",
    "            print('Tu vuelto es ', fondo)\"\"\"\n",
    "\n",
    "\"\"\"elif cebolla <= fondo and not papa <= fondo and not zanahoria <= fondo:\n",
    "    fondo = fondo - cebolla\n",
    "    print('fondo2', fondo)\n",
    "    fondo = fondo - papa\n",
    "    print('fondo3', fondo)\n",
    "    fondo = fondo - zanahoria\n",
    "    print('fondo4', fondo)\n",
    "    print('Aca compro 1kg de cada cosa')\"\"\"\n",
    "\n",
    "else:\n",
    "    print('Que locura no se puede comprar nada')\n",
    "\n"
   ]
  }
 ],
 "metadata": {
  "colab": {
   "provenance": []
  },
  "kernelspec": {
   "display_name": "Python 3 (ipykernel)",
   "language": "python",
   "name": "python3"
  },
  "language_info": {
   "codemirror_mode": {
    "name": "ipython",
    "version": 3
   },
   "file_extension": ".py",
   "mimetype": "text/x-python",
   "name": "python",
   "nbconvert_exporter": "python",
   "pygments_lexer": "ipython3",
   "version": "3.13.5"
  }
 },
 "nbformat": 4,
 "nbformat_minor": 4
}
