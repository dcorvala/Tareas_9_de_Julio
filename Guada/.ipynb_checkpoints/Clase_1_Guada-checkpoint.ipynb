{
 "cells": [
  {
   "cell_type": "markdown",
   "metadata": {
    "id": "4iZGF-lYbTBU"
   },
   "source": [
    "# 📘 Notebook de Guada. Asunto: Clase 1\n",
    "\n",
    "[![Abrir en Colab](https://colab.research.google.com/assets/colab-badge.svg)](https://colab.research.google.com/github/dcorvala/Tareas_9_de_Julio/blob/main/Guada/Clase_1_Guada.ipynb\n",
    ")"
   ]
  },
  {
   "cell_type": "markdown",
   "metadata": {
    "id": "cGeXNl5JgGFX"
   },
   "source": [
    "#**Actividad 1**\n",
    "\n",
    "*Realizar la actividad en grupos de 2 o 3 personas*\n",
    "\n",
    "**Consigna 1:**\n",
    "*Hacer en el cuaderno*\n",
    "\n",
    "Imaginen que son vendedores de un supermercado. Escriban las instrucciones para conocer cómo calcular el precio total de la siguiente venta: dos paquetes de arroz (cada uno sale 300 pesos) y cinco paquetes de fideos (cada uno sale 400 pesos)."
   ]
  },
  {
   "cell_type": "markdown",
   "metadata": {
    "id": "SJECBZl5zjeU"
   },
   "source": [
    "Haría una suma y multiplicación por cada tipo de producto.\n",
    "A(2x300)+F(5x400)=Total2600"
   ]
  },
  {
   "cell_type": "markdown",
   "metadata": {
    "id": "pEEl1xJPolsL"
   },
   "source": [
    "**Consigna 2:**\n",
    "*Hacer en el cuaderno*\n",
    "\n",
    " Ahora se agrega al pedido anterior 3 paquetes de chocolate (cada uno sale 500 pesos), escriban las instrucciones del nuevo pedido."
   ]
  },
  {
   "cell_type": "markdown",
   "metadata": {
    "id": "6bpbgpN05CdX"
   },
   "source": [
    "A(2x300)+F(5x400)+C(3x500)=Total4100"
   ]
  },
  {
   "cell_type": "markdown",
   "metadata": {
    "id": "X1e-dZjNol4S"
   },
   "source": [
    "\n",
    "**Consigna 3:**\n",
    "\n",
    "*hacer sin computadora*\n",
    "\n",
    "¿Cuál es la información relevante para poder hacer el cálculo del precio total de la compra?\n",
    "A partir de esa info, elaboren una fórmula que modele la situación de la consigna 1."
   ]
  },
  {
   "cell_type": "markdown",
   "metadata": {
    "id": "OuWWABZB5YWt"
   },
   "source": [
    "La información relevante es el tipo de producto, la cantidad del mismo y el valor:\n",
    "A(2x300)+F(5x400)+C(3x500)=Total4100"
   ]
  },
  {
   "cell_type": "markdown",
   "metadata": {
    "id": "MiH_bXnhomM2"
   },
   "source": [
    "\n",
    "**Consigna 4**\n",
    "\n",
    "El siguiente código resuelve el problema de la consigna 1. Observénlo. ¿hay alguna relación entre lo escrito en la *terminal* y lo que ustedes hicieron en la consigna 3? ¿cuál es? ¿para qué puede servir, entonces, pensar la fórmula de un problema?\n",
    "\n"
   ]
  },
  {
   "cell_type": "code",
   "execution_count": 1,
   "metadata": {
    "colab": {
     "base_uri": "https://localhost:8080/"
    },
    "id": "4LTdSOI3gE5L",
    "outputId": "deec1e40-7afd-409f-9885-dea55cf2ce41"
   },
   "outputs": [
    {
     "name": "stdout",
     "output_type": "stream",
     "text": [
      "2600\n"
     ]
    }
   ],
   "source": [
    "# Indicar el precio de cada producto\n",
    "precio_arroz = 300\n",
    "precio_fideos = 400\n",
    "\n",
    "#Indicar la cantidad de cada producto a comprar\n",
    "cant_arroz=2\n",
    "cant_fideos=5\n",
    "\n",
    "#Calcular el importe de compra\n",
    "importe_compra= precio_arroz*cant_arroz+precio_fideos*cant_fideos\n",
    "\n",
    "#Informar el valor del importe\n",
    "print(importe_compra)"
   ]
  },
  {
   "cell_type": "markdown",
   "metadata": {
    "id": "X_nnzLmM6PfM"
   },
   "source": [
    "Si existe relación entre lo que hice y está respuesta.\n",
    "La cantidad y el precio de cada item y todos servirán para calcular el valor total de la compra."
   ]
  },
  {
   "cell_type": "markdown",
   "metadata": {
    "id": "KpozTHfBpyGF"
   },
   "source": [
    "**Consigna 5**\n",
    "\n",
    "Ahora les dejamos a continuación una celda de código vacía. Copien ahí lo que está en la celda anterior  y modifiquen el código para agregar los 3 paquetes de chocolate de la consigna 2 de esta actividad en el cálculo del importe de la compra"
   ]
  },
  {
   "cell_type": "code",
   "execution_count": 2,
   "metadata": {
    "colab": {
     "base_uri": "https://localhost:8080/"
    },
    "id": "QhpowDbgqDp5",
    "outputId": "22551f09-2300-4035-e43a-b2c767a925df"
   },
   "outputs": [
    {
     "name": "stdout",
     "output_type": "stream",
     "text": [
      "Total a pagar:\n",
      "4100\n"
     ]
    }
   ],
   "source": [
    "# resolución...\n",
    "\n",
    "# Indicar el precio de cada producto\n",
    "precio_A = 300\n",
    "precio_F = 400\n",
    "precio_C = 500\n",
    "var1 = 'Total a pagar:'\n",
    "\n",
    "#Indicar la cantidad de cada producto a comprar\n",
    "Q_A =2\n",
    "Q_F =5\n",
    "Q_C =3\n",
    "\n",
    "#Calcular el importe de compra\n",
    "Total_compra= precio_A*Q_A+precio_F*Q_F+precio_C*Q_C\n",
    "\n",
    "#Informar el valor del importe\n",
    "print(var1)\n",
    "print(Total_compra)"
   ]
  },
  {
   "cell_type": "markdown",
   "metadata": {
    "id": "f_JIW8btcwiY"
   },
   "source": [
    "## **Actividad 2**\n",
    "Consigna 1:\n",
    "\n",
    "El siguiente algoritmo les pregunta su nombre, lugar de donde provienen y edad, y lo guarda. Miren cómo funciona y ejecútenlo. Escribir la información obtenida en la pantalla"
   ]
  },
  {
   "cell_type": "code",
   "execution_count": 3,
   "metadata": {
    "colab": {
     "base_uri": "https://localhost:8080/"
    },
    "id": "atTWPZ2wXcpL",
    "outputId": "6628bfc4-5a5e-4e56-8d35-13d06d937763"
   },
   "outputs": [
    {
     "name": "stdout",
     "output_type": "stream",
     "text": [
      "Escribir nombre Dario\n",
      "lugar de procedencia Moreno\n",
      "edad45\n"
     ]
    }
   ],
   "source": [
    "nombre=input('Escribir nombre ')\n",
    "procedencia=input('lugar de procedencia ')\n",
    "edad=input('edad')"
   ]
  },
  {
   "cell_type": "markdown",
   "metadata": {
    "id": "-9ThCJeqZsqS"
   },
   "source": [
    "Veamos qué hizo el algoritmo"
   ]
  },
  {
   "cell_type": "code",
   "execution_count": 4,
   "metadata": {
    "colab": {
     "base_uri": "https://localhost:8080/"
    },
    "id": "vOB8O69qXdIL",
    "outputId": "0cfbd8c5-8d4f-4f41-abe6-34a13d28d752"
   },
   "outputs": [
    {
     "name": "stdout",
     "output_type": "stream",
     "text": [
      "Dario\n",
      "Moreno\n",
      "45\n"
     ]
    }
   ],
   "source": [
    "print(nombre)\n",
    "print(procedencia)\n",
    "print(edad)"
   ]
  },
  {
   "cell_type": "markdown",
   "metadata": {
    "id": "b0ZECewSafRI"
   },
   "source": [
    "**Consigna 2**:\n",
    "¿Qué modificaciones habría que hacerle al algoritmo si se quisiera saber primero la edad, luego el nombre y por último el lugar de procedencia? ¿y si quisiéramos además conocer el gusto de helado favorito?\n"
   ]
  },
  {
   "cell_type": "code",
   "execution_count": null,
   "metadata": {
    "id": "AdIzEfU7YWiU"
   },
   "outputs": [],
   "source": [
    "edad=input(\"edad \")"
   ]
  },
  {
   "cell_type": "code",
   "execution_count": 5,
   "metadata": {
    "colab": {
     "base_uri": "https://localhost:8080/"
    },
    "id": "Y4vIxqnvXfmL",
    "outputId": "9b086efa-76b4-44b5-e617-bfb197f36c25"
   },
   "outputs": [
    {
     "name": "stdout",
     "output_type": "stream",
     "text": [
      "edad 45\n",
      "Escribir nombre Dario\n",
      "lugar de procedencia Moreno\n",
      "Gusto de helado Granizado\n"
     ]
    }
   ],
   "source": [
    "#Hacer las modificaciones correspondientes para cumplir con la consigna 2\n",
    "edad=input('edad ')\n",
    "nombre=input('Escribir nombre ')\n",
    "procedencia=input('lugar de procedencia ')\n",
    "helado=input(\"Gusto de helado \")\n"
   ]
  },
  {
   "cell_type": "code",
   "execution_count": 6,
   "metadata": {
    "colab": {
     "base_uri": "https://localhost:8080/"
    },
    "id": "Sbk1PsKXYQnA",
    "outputId": "5bcc4363-9ebf-46d8-c3b1-3f798912fbd8"
   },
   "outputs": [
    {
     "name": "stdout",
     "output_type": "stream",
     "text": [
      "45\n",
      "Dario\n",
      "Moreno\n"
     ]
    }
   ],
   "source": [
    "# La forma de establecer el orden deseado es ubicarlo de forma correcta\n",
    "print(edad)\n",
    "print(nombre)\n",
    "print(procedencia)"
   ]
  },
  {
   "cell_type": "markdown",
   "metadata": {
    "id": "puo5qLY09DQk"
   },
   "source": []
  },
  {
   "cell_type": "markdown",
   "metadata": {
    "id": "oNAvU0qbsx9l"
   },
   "source": [
    "\n",
    "**Consigna 3**: *Contestar en el cuaderno*\n",
    "\n",
    "Un estudiante estaba distraído y completó mal el dato de su nombre ¿cómo podemos hacer para solucionar el problema?"
   ]
  },
  {
   "cell_type": "markdown",
   "metadata": {
    "id": "tHWoKUpY86Dm"
   },
   "source": [
    "*El usuario ingresó mal su nombre, en primer instancia pensaría en observar qué valor ingreso, ej. Ingreso un número puede que se haya confundido con el campo edad, entoces en ese caso seria adecuado poder establecer que los valores de ingreso para el campo Nombre sea un string, y para el campo edad sea int.*"
   ]
  },
  {
   "cell_type": "markdown",
   "metadata": {
    "id": "CtSJ5hXKp4jt"
   },
   "source": [
    "*Ahora bien, si escribio mal su nombre ej. G7ada o Gu$ada, entonces lo que haria es que establecer que en ese campo solo puedan incluir valores albabeticos, y una vez que el usuario completo el total de campos exista una pantalla a modo resumen donde el usuario verifique los valores ingresados.\n",
    "Probablemente asi y todo encuente en la base de datos GUada, o GUAda o similares, aunque eso no afectaria a poder contar o no los usuarios*"
   ]
  },
  {
   "cell_type": "markdown",
   "metadata": {
    "id": "v4H_xhp_a9AG"
   },
   "source": [
    "**Consigna 4**: *Contestar en el cuaderno*\n",
    "\n",
    "Luego de responder las indicaciones del cuestionario se obtuvieron las siguientes respuestas\n",
    "\n",
    "45\n",
    "\n",
    "Juan\n",
    "\n",
    "San Clemente del Tuyú\n",
    "\n",
    "¿se están respondiendo el algoritmo de la consigna 1 o de la consigna 2?¿cómo se dieron cuenta?\n"
   ]
  },
  {
   "cell_type": "markdown",
   "metadata": {
    "id": "Rs3-X6GVtF1C"
   },
   "source": [
    "*Se esta respondiendo el algoritmo de la Consigna 2, ya que el orden del mismo es 1. Edad, 2. Nombre, 3. Procedencia*"
   ]
  },
  {
   "cell_type": "markdown",
   "metadata": {
    "id": "xvZFM4jmbbp3"
   },
   "source": [
    "# **Actividad 3**\n",
    "\n",
    "**Consigna 1**\n",
    "\n",
    "*Hacer en el cuaderno*\n",
    "\n",
    "Imaginen que trabajan analizando datos y su jefe les pide que el algoritmo que están haciendo informe si una persona es mayor de edad o no.\n",
    "\n",
    "¿Qué condición debe cumplir una persona para ser mayor de edad? Piensen cómo tendría que ser el proceso lógico para poder contestar esa pregunta y escriban en su cuaderno una expresión que la represente.\n",
    "\n",
    "**Consigna 2**\n",
    "\n",
    "Escriban en la terminal lo que pensaron en la consigna 1 para las edades de 5 años, 17 años y 24 años. ¿Qué les devuelve?\n",
    "\n"
   ]
  },
  {
   "cell_type": "code",
   "execution_count": null,
   "metadata": {
    "colab": {
     "base_uri": "https://localhost:8080/"
    },
    "id": "WuAavongapLC",
    "outputId": "90614f48-b39f-42dc-ab5e-1d1ae83265ee"
   },
   "outputs": [
    {
     "name": "stdout",
     "output_type": "stream",
     "text": [
      "Cuantos años tenes?15\n",
      "False\n"
     ]
    }
   ],
   "source": [
    "edad=int(input('Cuantos años tenes?'))\n",
    "condicion = edad>=18\n",
    "\n",
    "#comparación\n",
    "print(condicion)"
   ]
  },
  {
   "cell_type": "code",
   "execution_count": null,
   "metadata": {
    "colab": {
     "base_uri": "https://localhost:8080/"
    },
    "id": "boMLaH9vfsWO",
    "outputId": "bfefb949-ca61-450c-8d6a-c41e2164f68c"
   },
   "outputs": [
    {
     "name": "stdout",
     "output_type": "stream",
     "text": [
      "True\n"
     ]
    }
   ],
   "source": [
    "print(condicion)"
   ]
  },
  {
   "cell_type": "code",
   "execution_count": null,
   "metadata": {
    "colab": {
     "base_uri": "https://localhost:8080/"
    },
    "id": "Ys9LMnDMvako",
    "outputId": "ddd0dbbd-41fe-4f68-f11e-2b9f8fc1a53e"
   },
   "outputs": [
    {
     "name": "stdout",
     "output_type": "stream",
     "text": [
      "False\n"
     ]
    }
   ],
   "source": [
    "edad=5\n",
    "condicion = edad>=18\n",
    "print(condicion)"
   ]
  },
  {
   "cell_type": "code",
   "execution_count": null,
   "metadata": {
    "colab": {
     "base_uri": "https://localhost:8080/"
    },
    "id": "Dgap_uTmvaTa",
    "outputId": "637b099b-d853-4c34-8437-4b87b8a67422"
   },
   "outputs": [
    {
     "name": "stdout",
     "output_type": "stream",
     "text": [
      "False\n"
     ]
    }
   ],
   "source": [
    "edad=17\n",
    "condicion = edad>=18\n",
    "print(condicion)"
   ]
  },
  {
   "cell_type": "code",
   "execution_count": null,
   "metadata": {
    "colab": {
     "base_uri": "https://localhost:8080/"
    },
    "id": "2HgANTaNvZ5g",
    "outputId": "90e70cd5-84f4-4bdd-e6c7-4967b706e9d5"
   },
   "outputs": [
    {
     "name": "stdout",
     "output_type": "stream",
     "text": [
      "True\n"
     ]
    }
   ],
   "source": [
    "edad=24\n",
    "condicion = edad>=18\n",
    "print(condicion)"
   ]
  },
  {
   "cell_type": "markdown",
   "metadata": {
    "id": "N0NBd-GdcN-l"
   },
   "source": [
    "**Consigna 3:**\n",
    "\n",
    "El siguiente código sirve para clasificar, conociendo el salario de una persona, si cobra más o menos de 100 pesos la hora. Si cobra más, escribe en la pantalla “el salario es mayor a 100 por hora”. Si cobra menos, escribe “el salario es menor a 100 por hora”.\n",
    "\n"
   ]
  },
  {
   "cell_type": "code",
   "execution_count": null,
   "metadata": {
    "id": "hhY4EcUGkWbA"
   },
   "outputs": [],
   "source": [
    "#introducimos valor hora del salario\n",
    "salario=50\n",
    "\n",
    "#decide si es mayor a 100\n",
    "if salario>100:\n",
    "    print('el salario es mayor a 100 por hora')\n",
    "\n",
    "else:\n",
    "    print('el salario es menor a 100 por hora')"
   ]
  },
  {
   "cell_type": "markdown",
   "metadata": {
    "id": "E2PnMXS9k1gt"
   },
   "source": [
    "\n",
    "A partir del código anterior, hagan un algoritmo que decida si una persona es mayor de edad o no y lo informe en la pantalla."
   ]
  },
  {
   "cell_type": "code",
   "execution_count": null,
   "metadata": {
    "colab": {
     "base_uri": "https://localhost:8080/"
    },
    "id": "DyfCwT55lWbP",
    "outputId": "fdeffa51-6757-429c-e9c6-6b177d63835f"
   },
   "outputs": [
    {
     "name": "stdout",
     "output_type": "stream",
     "text": [
      "el usuario es mayor de edad\n"
     ]
    }
   ],
   "source": [
    "#Resolución...\n",
    "edad=24\n",
    "\n",
    "#decide si es mayor de edad\n",
    "if edad>=18:\n",
    "    print('el usuario es mayor de edad')\n",
    "\n",
    "else:\n",
    "    print('el usuario es menor de edad')"
   ]
  },
  {
   "cell_type": "markdown",
   "metadata": {
    "id": "LJ7-yKY8kZXz"
   },
   "source": [
    "¿el algoritmo que hicieron hace lo que ustedes pusieron en la consigna 1 de la actividad anterior? ¿En qué momento toma la decisión?\n"
   ]
  },
  {
   "cell_type": "markdown",
   "metadata": {
    "id": "VauZbJCxwNqe"
   },
   "source": [
    "*Existe la edad real o un valor seteado (edad=XX), el **if** indica que si el valor de la edad del usuario es mayor a 18 entonces entra en esta seccion e imprime '**el usuario es mayor de edad**', sin embargo si la edad del usuario es menor a 18 entonces no ingresa en esa seccion del algotirmo sino que al **else** (si no es la prima condicion entonces) imprime '**el usuario es manor de edad**'*\n",
    "\n"
   ]
  },
  {
   "cell_type": "markdown",
   "metadata": {
    "id": "rfx045HlwONh"
   },
   "source": [
    "# **Actividad 4: El semáforo**\n",
    "\n",
    "**Consigna 1**\n",
    "\n",
    "*Hacer en el cuaderno*\n",
    "\n",
    "Teniendo en cuenta, lo  visto en el ejercicio anterior, crear un algoritmo que indique que pare si la luz está roja y que avance si la luz está verde.\n",
    "\n",
    "*Luego traslademos a código en el colab*\n",
    "\n",
    "\n",
    "\n"
   ]
  },
  {
   "cell_type": "code",
   "execution_count": null,
   "metadata": {
    "colab": {
     "base_uri": "https://localhost:8080/"
    },
    "id": "yI1VVN-Ew2R7",
    "outputId": "b0214c42-e6f5-4653-9e77-1e232eb804aa"
   },
   "outputs": [
    {
     "name": "stdout",
     "output_type": "stream",
     "text": [
      "frene\n"
     ]
    }
   ],
   "source": [
    "# Resolución\n",
    "luz='roja'\n",
    "#luz='verde'\n",
    "\n",
    "#decide si avanza\n",
    "if luz == 'roja':\n",
    "    print('frene')\n",
    "\n",
    "if luz == 'verde':\n",
    "    print('avance')"
   ]
  },
  {
   "cell_type": "markdown",
   "metadata": {
    "id": "xH9WWcxjw68K"
   },
   "source": [
    "**Consigna 2**\n",
    "\n",
    "¿Cómo deberíamos modificar el código para que pare si la luz está roja, avance si la luz está verde y que acelere si la luz está amarilla?\n",
    "\n",
    "*Usen la pista que está en la diapositiva*"
   ]
  },
  {
   "cell_type": "code",
   "execution_count": null,
   "metadata": {
    "colab": {
     "base_uri": "https://localhost:8080/"
    },
    "id": "sSBtk7W4w5gm",
    "outputId": "29b89cb3-2f7c-428e-f8a4-98659149e90c"
   },
   "outputs": [
    {
     "name": "stdout",
     "output_type": "stream",
     "text": [
      "acelere\n"
     ]
    }
   ],
   "source": [
    "#Resolución\n",
    "\n",
    "luz='roja'\n",
    "luz='verde'\n",
    "luz='amarilla'\n",
    "\n",
    "#decide si avanza\n",
    "if luz == 'roja':\n",
    "    print('frene')\n",
    "\n",
    "if luz == 'verde':\n",
    "    print('avance')\n",
    "\n",
    "if luz == 'amarilla':\n",
    "    print('acelere') #muy mal acelerar en la luz amarilla."
   ]
  },
  {
   "cell_type": "markdown",
   "metadata": {
    "id": "_hLkNU_zxSAw"
   },
   "source": [
    "**Consigna 3**\n",
    "\n",
    "Agreguemosle al código la luz naranja para que frene.\n"
   ]
  },
  {
   "cell_type": "code",
   "execution_count": null,
   "metadata": {
    "colab": {
     "base_uri": "https://localhost:8080/"
    },
    "id": "IuLj9OWbxlU7",
    "outputId": "7fd0db4d-23ba-4796-9826-eb6d6da6e949"
   },
   "outputs": [
    {
     "name": "stdout",
     "output_type": "stream",
     "text": [
      "frene\n"
     ]
    }
   ],
   "source": [
    "#Resolución\n",
    "\n",
    "luz='roja'\n",
    "luz='verde'\n",
    "luz='amarillo'\n",
    "luz='naranja'\n",
    "\n",
    "#decide si avanza\n",
    "if luz == 'roja' or luz == 'naranja':\n",
    "    print('frene')\n",
    "\n",
    "if luz == 'verde':\n",
    "    print('avance')\n",
    "\n",
    "if luz == 'amarilla':\n",
    "    print('acelere') #muy mal acelerar en la luz amarilla."
   ]
  },
  {
   "cell_type": "markdown",
   "metadata": {
    "id": "udgSOxXZx4yK"
   },
   "source": [
    "# **Actividad 5: Opciones de películas**\n",
    "\n",
    "Transformá el siguiente algoritmo a código de python y ejecutalo en el Colab\n",
    "\n",
    "\"#Imprimir el siguiente mensaje\"\n",
    "\n",
    "\"Selecciona un número que indique el nombre de tu película favorita:\n",
    "\n",
    "1.Opción 1\n",
    "\n",
    "2.Opción 2\n",
    "\n",
    "3.Opción 3\n",
    "\n",
    "4.Opción 4\n",
    "\n",
    "5.Otro\"\n",
    "\n",
    "\"#Pedirle al usuario el número de la opción escogida.\"\n",
    "\"# Realizar un condicional que a partir del número escogido imprima la ficha de la película\"\n",
    "\n",
    "Si no selecciona ninguna de las opciones debe imprimirse un mensaje de error.\n"
   ]
  },
  {
   "cell_type": "code",
   "execution_count": null,
   "metadata": {
    "colab": {
     "base_uri": "https://localhost:8080/"
    },
    "id": "VOaRfqaYx4Hw",
    "outputId": "53eaff6e-0de2-4305-8c64-a35ee3385cc0"
   },
   "outputs": [
    {
     "name": "stdout",
     "output_type": "stream",
     "text": [
      "1.Opción 1\n",
      "2.Opción 2\n",
      "3.Opción 3\n",
      "4.Opción 4\n",
      "5.Otro\n",
      "Selecciona un número que indique el nombre de tu película favorita:2\n",
      "2.Opción 2\n"
     ]
    }
   ],
   "source": [
    "#Resolución\n",
    "var10=\"1.Opción 1\"\n",
    "var20=\"2.Opción 2\"\n",
    "var30=\"3.Opción 3\"\n",
    "var40=\"4.Opción 4\"\n",
    "var50=\"5.Otro\"\n",
    "var1=1\n",
    "var2=2\n",
    "var3=3\n",
    "var4=4\n",
    "var5=5\n",
    "var6=6\n",
    "#var8=null no sé como definir para un valor nulo o vacio (ej. solo presionar ENTER en el input)\n",
    "\n",
    "# Estas opciones son las primeras que se muestras\n",
    "print(var10)\n",
    "print(var20)\n",
    "print(var30)\n",
    "print(var40)\n",
    "print(var50)\n",
    "\n",
    "# Se solicita al usuario viendo las opciones que seleccione una\n",
    "var7= int (input (\"Selecciona un número que indique el nombre de tu película favorita:\"))\n",
    "\n",
    "# Respuestas en funcion de la seleccion\n",
    "var10=\"1.Opción 1\"\n",
    "var20=\"2.Opción 2\"\n",
    "var30=\"3.Opción 3\"\n",
    "var40=\"4.Opción 4\"\n",
    "var50=\"5.Otro\"\n",
    "var60=\"error\"\n",
    "\n",
    "if var7 == var1:\n",
    "    print(var10)\n",
    "\n",
    "if var7 == var2:\n",
    "    print(var20)\n",
    "\n",
    "if var7 == var3:\n",
    "    print(var30)\n",
    "\n",
    "if var7 == var4:\n",
    "    print(var40)\n",
    "\n",
    "if var7 == var5:\n",
    "    print(var50)\n",
    "\n",
    "if var7 >= var6:\n",
    "    print(var60)"
   ]
  }
 ],
 "metadata": {
  "colab": {
   "provenance": []
  },
  "kernelspec": {
   "display_name": "Python 3 (ipykernel)",
   "language": "python",
   "name": "python3"
  },
  "language_info": {
   "codemirror_mode": {
    "name": "ipython",
    "version": 3
   },
   "file_extension": ".py",
   "mimetype": "text/x-python",
   "name": "python",
   "nbconvert_exporter": "python",
   "pygments_lexer": "ipython3",
   "version": "3.13.5"
  }
 },
 "nbformat": 4,
 "nbformat_minor": 4
}
