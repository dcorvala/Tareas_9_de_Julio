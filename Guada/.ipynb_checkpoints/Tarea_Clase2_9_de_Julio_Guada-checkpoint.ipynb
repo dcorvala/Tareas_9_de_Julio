{
 "cells": [
  {
   "cell_type": "markdown",
   "metadata": {},
   "source": [
    "# 📘Notebook Tarea Clase 2 Guada\n",
    "\n",
    "Este notebook instala automáticamente las dependencias necesarias y se puede abrir en Google Colab.\n",
    "\n",
    "[![Abrir en Colab](https://colab.research.google.com/assets/colab-badge.svg)](https://colab.research.google.com/github/dcorvala/Tareas_9_de_Julio/blob/main/Guada/Tarea_Clase2_9_de_Julio_Guada.ipynb)\n"
   ]
  },
  {
   "cell_type": "markdown",
   "metadata": {
    "id": "Ay7FOJWsYe83"
   },
   "source": [
    "# Ejercicio 1: variables"
   ]
  },
  {
   "cell_type": "markdown",
   "metadata": {
    "id": "jb1etHRTp1MN"
   },
   "source": [
    "Contestar\n",
    "\n",
    "a) Asigná una variable con tu nombre(Recordá que no hace falta usar el input)\n",
    "\n",
    "b) ¿Cuál es la diferencia entre asignar y llamar una variable?\n",
    "\n",
    "c) ¿Qué pasa si llamas a una variable y no está asignada?"
   ]
  },
  {
   "cell_type": "code",
   "execution_count": null,
   "metadata": {
    "colab": {
     "base_uri": "https://localhost:8080/"
    },
    "id": "2RlwF-5mZPS7",
    "outputId": "1d8199c1-2663-4fee-b6e3-547363aa2eaa"
   },
   "outputs": [
    {
     "name": "stdout",
     "output_type": "stream",
     "text": [
      "bueno\n",
      "0\n"
     ]
    }
   ],
   "source": [
    "# a) asignar una variable\n",
    "Tiempo = 'bueno'\n",
    "print(Tiempo)\n",
    "\n",
    "Valor = 0\n",
    "print(Valor)"
   ]
  },
  {
   "cell_type": "code",
   "execution_count": null,
   "metadata": {
    "id": "igkXGgY4KQzk"
   },
   "outputs": [],
   "source": [
    "# Diferencia entre asignar y llamar a una variable\n",
    "# Al asignar una variable se esta estbleciendo el \"valor\" de la misma, ya que esta puede variar.\n",
    "# Llamar a una variable es solicitarla o pedir de memoria su valor para utlizar en alguna funcion."
   ]
  },
  {
   "cell_type": "code",
   "execution_count": null,
   "metadata": {
    "colab": {
     "base_uri": "https://localhost:8080/",
     "height": 176
    },
    "id": "2fWVKvcfLbYa",
    "outputId": "8f6923cd-f3a0-4151-fa1f-d56f5a201d5f"
   },
   "outputs": [
    {
     "ename": "NameError",
     "evalue": "name 'Nombre' is not defined",
     "output_type": "error",
     "traceback": [
      "\u001b[0;31m---------------------------------------------------------------------------\u001b[0m",
      "\u001b[0;31mNameError\u001b[0m                                 Traceback (most recent call last)",
      "\u001b[0;32m<ipython-input-7-ff1306e38711>\u001b[0m in \u001b[0;36m<cell line: 0>\u001b[0;34m()\u001b[0m\n\u001b[1;32m      2\u001b[0m \u001b[0;31m#Valor = 1 + fondo\u001b[0m\u001b[0;34m\u001b[0m\u001b[0;34m\u001b[0m\u001b[0m\n\u001b[1;32m      3\u001b[0m \u001b[0;34m\u001b[0m\u001b[0m\n\u001b[0;32m----> 4\u001b[0;31m \u001b[0mprint\u001b[0m\u001b[0;34m(\u001b[0m\u001b[0mNombre\u001b[0m\u001b[0;34m)\u001b[0m\u001b[0;34m\u001b[0m\u001b[0;34m\u001b[0m\u001b[0m\n\u001b[0m",
      "\u001b[0;31mNameError\u001b[0m: name 'Nombre' is not defined"
     ]
    }
   ],
   "source": [
    "# Es probable que al no asignarle valor y llamar para su uso de la variable, entonces esto emite el error (NameError).\n",
    "\n",
    "Valor = 1 + fondo\n",
    "\n",
    "print(Nombre)"
   ]
  },
  {
   "cell_type": "markdown",
   "metadata": {
    "id": "7LNbzrocqykt"
   },
   "source": [
    "# Ejercicio 2: Nombres de variables\n",
    "Podemos asignar el nombre que queramos, respetando no usar las palabras reservadas de Python ni espacios, guiones o números al principio.\n",
    "```python\n",
    "\n",
    "# ['False', 'None', 'True', 'and', 'as', 'assert',\n",
    "# 'async', 'await', 'break', 'class', 'continue',\n",
    "# 'def', 'del', 'elif', 'else', 'except', 'finally',\n",
    "# 'for', 'from', 'global', 'if', 'import', 'in', 'is',\n",
    "# 'lambda', 'nonlocal', 'not', 'or', 'pass', 'raise',\n",
    "# 'return', 'try', 'while', 'with', 'yield']\n",
    "```"
   ]
  },
  {
   "cell_type": "markdown",
   "metadata": {
    "id": "LNE74NQYwj1d"
   },
   "source": [
    "a) ¿Cuáles de la siguiente listas de palabras cuales pueden ser nombres de variables?\n",
    "\n",
    "\n",
    "\n",
    "*   precio1\n",
    "*   1precio\n",
    "*   cantidad_\n",
    "*   _cantidad\n",
    "*   FpWx\n",
    "*   lambda\n",
    "*   lambda1\n",
    "*   7for\n",
    "\n",
    "b) Probá las variables elegidas asignandole un número real.\n"
   ]
  },
  {
   "cell_type": "markdown",
   "metadata": {
    "id": "NGtTzPzaOsxg"
   },
   "source": [
    "a) ¿Cuáles de la siguiente listas de palabras cuales pueden ser nombres de variables? ni espacios, guiones o números al principio\n",
    "\n",
    "precio1 SI\n",
    "1precio NO\n",
    "cantidad_ SI\n",
    "_cantidad NO\n",
    "FpWx SI\n",
    "lambda NO\n",
    "lambda1 SI\n",
    "7for NO"
   ]
  },
  {
   "cell_type": "code",
   "execution_count": null,
   "metadata": {
    "colab": {
     "base_uri": "https://localhost:8080/"
    },
    "id": "zaVK64v6PUVv",
    "outputId": "c30d580c-a973-4e7a-9584-62f001e03d64"
   },
   "outputs": [
    {
     "name": "stdout",
     "output_type": "stream",
     "text": [
      "1 2 3 4\n"
     ]
    }
   ],
   "source": [
    "precio1 = 1\n",
    "#1precio = X\n",
    "cantidad_ = 2\n",
    "#_cantidad = XX\n",
    "FpWx = 3\n",
    "#lambda = XXX\n",
    "lambda1 = 4\n",
    "#7for = XXXX\n",
    "\n",
    "print(precio1, cantidad_, FpWx, lambda1)"
   ]
  },
  {
   "cell_type": "markdown",
   "metadata": {
    "id": "JlvbBM1RxD5c"
   },
   "source": [
    "\n",
    "# Ejercicio 3: Vamos al cine\n",
    "a) Armar un programa que pregunte la edad al usuario y le diga si puede ver la película o no. Recordá que la película \"Argentina 1985\" es Apta para Mayores de 13 años.\n",
    "\n",
    "b) La entrada al cine sale $1200, armá el código de un programa que pregunte la plata que tiene el cliente e indique si puede sacar la entrada\n"
   ]
  },
  {
   "cell_type": "code",
   "execution_count": null,
   "metadata": {
    "colab": {
     "base_uri": "https://localhost:8080/"
    },
    "id": "A0fMlNDlUh7s",
    "outputId": "1c6d1d89-9e26-4463-c31b-11887b097037"
   },
   "outputs": [
    {
     "name": "stdout",
     "output_type": "stream",
     "text": [
      "Cuantos años tenes? 18\n",
      "Perfecto, podes ver la peli, esta peli es apta para mayores de 13\n",
      "Cuanto dinero tengo en la billetera? 1000\n",
      "Noooo solo estaba preguntando\n"
     ]
    }
   ],
   "source": [
    "# Pregunta la edad y decide su puede o no ver la pelicula.\n",
    "#introducimos la edad\n",
    "edad = int(input('Cuantos años tenes? '))\n",
    "\n",
    "#decide si es mayor a 13\n",
    "if edad >= 13:\n",
    "  print('Perfecto, podes ver la peli, esta peli es apta para mayores de 13')\n",
    "else:\n",
    "  print('No te puedo creer! esta peli es apta para mayores de 13, no puedo dejarte pasar')\n",
    "\n",
    "# Decide si la cantidad de dinero con la que cuento paga o no la entrada\n",
    "\n",
    "entrada = int(input('Cuanto dinero tengo en la billetera? '))\n",
    "\n",
    "#Me fijo en la billetera cuanto dinero tengo\n",
    "if entrada >= 1200:\n",
    "  print('Quiero una entrada')\n",
    "else:\n",
    "  print('Noooo solo estaba preguntando')\n"
   ]
  },
  {
   "cell_type": "markdown",
   "metadata": {
    "id": "9NhC7r8SZsCz"
   },
   "source": [
    "# Ejercicio 4: Dados!\n",
    "\n",
    "José y Salvador juegan al siguiente juego.\n",
    "\n",
    "Tiran dos dados. Si sale algún 1 gana el José. Si no, gana Salvador.\n",
    "\n",
    "1. ¿Cómo podemos simular un dado con la función random?\n",
    "2. Escribir el paso a paso de este juego en un papel\n",
    "3. Hacer el código en la celda de abajo\n",
    "4. ¿Cómo modificar el código si ahora José gana tanto si sale algún 1 o algún 5?"
   ]
  },
  {
   "cell_type": "code",
   "execution_count": null,
   "metadata": {
    "colab": {
     "base_uri": "https://localhost:8080/"
    },
    "id": "_Ba3DiExZqxB",
    "outputId": "0836aa84-7941-4003-ea36-8557c34c61b2"
   },
   "outputs": [
    {
     "name": "stdout",
     "output_type": "stream",
     "text": [
      "El valor del dato es dado 1: 5\n",
      "El valor del dato es dado 2: 1\n",
      "Increible ganó Jose\n"
     ]
    }
   ],
   "source": [
    "import random\n",
    "dado1=int(random.randint(1,6))\n",
    "print('El valor del dato es dado 1:',dado1)\n",
    "dado2=int(random.randint(1,6))\n",
    "print('El valor del dato es dado 2:',dado2)\n",
    "# Solo si sale 1 juega gana Jose, sino Salvador\n",
    "if dado1 == 1 or dado2 == 1:\n",
    "  print('Increible ganó Jose')\n",
    "else:\n",
    "  print('Era obvio, 5 caras a 1, ganó Salvador')"
   ]
  },
  {
   "cell_type": "code",
   "execution_count": null,
   "metadata": {
    "colab": {
     "base_uri": "https://localhost:8080/"
    },
    "id": "gBm8y4aKliGx",
    "outputId": "bda8e187-93ba-4da9-f076-df81c038db0c"
   },
   "outputs": [
    {
     "name": "stdout",
     "output_type": "stream",
     "text": [
      "El valor del dato es dado 1 6\n",
      "El valor del dato es dado 2 1\n",
      "Increible ganó Jose\n"
     ]
    }
   ],
   "source": [
    "import random\n",
    "dado1=int(random.randint(1,6))\n",
    "print('El valor del dato es dado 1:',dado1)\n",
    "dado2=int(random.randint(1,6))\n",
    "print('El valor del dato es dado 2:',dado2)\n",
    "\n",
    "# Solo si sale 1 juega gana Jose, sino Salvador\n",
    "if dado1 == 1 or dado1 == 5 or dado2 == 1 or dado2 == 5:\n",
    "  print('Increible ganó Jose')\n",
    "else:\n",
    "  print('Era obvio, 4 caras a 2, ganó Salvador')"
   ]
  }
 ],
 "metadata": {
  "colab": {
   "provenance": []
  },
  "kernelspec": {
   "display_name": "Python 3 (ipykernel)",
   "language": "python",
   "name": "python3"
  },
  "language_info": {
   "codemirror_mode": {
    "name": "ipython",
    "version": 3
   },
   "file_extension": ".py",
   "mimetype": "text/x-python",
   "name": "python",
   "nbconvert_exporter": "python",
   "pygments_lexer": "ipython3",
   "version": "3.13.5"
  }
 },
 "nbformat": 4,
 "nbformat_minor": 4
}
